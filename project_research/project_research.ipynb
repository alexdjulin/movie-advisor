{
 "cells": [
  {
   "cell_type": "markdown",
   "metadata": {},
   "source": [
    "# Movie Advisor\n",
    "*Chat with an AI movie advisor and get recommendations based on your preferences.*\n",
    "\n",
    "[GitHub Repo](https://github.com/alexdjulin/movie-advisor)"
   ]
  },
  {
   "cell_type": "markdown",
   "metadata": {
    "vscode": {
     "languageId": "plaintext"
    }
   },
   "source": [
    "## Brainstorming\n",
    "\n",
    "The goal of this project is to get my hands on langchain and build an AI movie advisor. I want to be able to do the following:\n",
    "- Ask the agent for information about a movie ('I heard The Godfather is good, give me the plot')\n",
    "- Ask for recommendations based on given criterias ('I like adventure movies, especially on the time-travel subject. Could you recommend a few?')\n",
    "- Handle my 3 lists of movies: Already watched, must-see and not-interested. The agent should keep my lists up to date based on my answers. For each, I want to be able to add a comment (if I liked them or not for instance), and use it to fine-tune recommendations\n",
    "- The agent should be able to search for information when the LLM does not know what to answer. For instance, search for a recent or less-known movie on the Internet or on a movie database\n",
    "\n",
    "Interactions with the movie advisor should be via keyboard input first, then using speech.\n",
    "\n",
    "The AI part should rely on a LLM. I will use OpenAI gpt-4o-mini that has just been released.\n",
    "\n",
    "Source info should come from the LLM first. I will try to pack the imdb dataset into a searchable database for the model to consult, but I guess that it's been trained on it already. Still, it would be interesting to see if the model can add entries to it, for recent or less-known movies it has not heard about yet.\n",
    "\n",
    "Lists should be stored in a database. I will use [Xata](https://app.xata.io/) for this.\n"
   ]
  },
  {
   "cell_type": "markdown",
   "metadata": {},
   "source": [
    "## Install modules used in this Notebook"
   ]
  },
  {
   "cell_type": "code",
   "execution_count": 20,
   "metadata": {},
   "outputs": [],
   "source": [
    "! pip install -qU python-dotenv langchain langchain-community langchainhub openai langchain-openai ipykernel kaggle pandas xata requests tiktoken langchain_huggingface sentence-transformers langchain-google-community[speech]"
   ]
  },
  {
   "cell_type": "markdown",
   "metadata": {},
   "source": [
    "## Imports\n",
    "Let's import all modules used in this notebook.  \n",
    "Put your api-keys in an .env file first, they will be loaded to environment variables below.   \n",
    "See .env-template.  "
   ]
  },
  {
   "cell_type": "code",
   "execution_count": 1,
   "metadata": {},
   "outputs": [],
   "source": [
    "# misc\n",
    "import os\n",
    "import json\n",
    "import zipfile\n",
    "import pandas as pd\n",
    "# langchain\n",
    "from langchain_core.output_parsers import StrOutputParser, JsonOutputParser\n",
    "from langchain_core.prompts import PromptTemplate\n",
    "from langchain_core.tools import tool\n",
    "from langchain import hub\n",
    "from langchain.agents import AgentExecutor, create_tool_calling_agent\n",
    "from langchain.prompts import ChatPromptTemplate\n",
    "from langchain_community.vectorstores.xata import XataVectorStore\n",
    "from langchain_openai import ChatOpenAI, OpenAIEmbeddings\n",
    "from langchain.schema import Document\n",
    "from langchain_core.pydantic_v1 import BaseModel, Field\n",
    "# openai\n",
    "embeddings = OpenAIEmbeddings()\n",
    "# xata client and config\n",
    "from xata.client import XataClient\n",
    "xata = XataClient()\n",
    "# load environment variables\n",
    "import dotenv\n",
    "dotenv.load_dotenv()\n",
    "# print separator\n",
    "sep = 100 * \"-\""
   ]
  },
  {
   "cell_type": "markdown",
   "metadata": {},
   "source": [
    "## Dataset review"
   ]
  },
  {
   "cell_type": "markdown",
   "metadata": {},
   "source": [
    "Here are some databases on Kaggle that our LLM could access to or extend:\n",
    "- [IMDB Movies Dataset](https://www.kaggle.com/datasets/harshitshankhdhar/imdb-dataset-of-top-1000-movies-and-tv-shows) - 1000 entries from the IMDB database\n",
    "- [TMDB 5000 Movie Dataset](https://www.kaggle.com/datasets/tmdb/tmdb-movie-metadata) - 5000 entries from the TMDB database\n",
    "- [Netflix Movies and TV Shows](https://www.kaggle.com/datasets/shivamb/netflix-shows) - Netflix contents, probably a bit too restrictive"
   ]
  },
  {
   "cell_type": "markdown",
   "metadata": {},
   "source": [
    "Let's have a look at the TMDB one."
   ]
  },
  {
   "cell_type": "markdown",
   "metadata": {},
   "source": [
    "## Review the TMDB Movie Dataset"
   ]
  },
  {
   "cell_type": "markdown",
   "metadata": {},
   "source": [
    "### Download"
   ]
  },
  {
   "cell_type": "code",
   "execution_count": 5,
   "metadata": {},
   "outputs": [
    {
     "name": "stdout",
     "output_type": "stream",
     "text": [
      "Dataset URL: https://www.kaggle.com/datasets/tmdb/tmdb-movie-metadata\n",
      "License(s): other\n",
      "Downloading tmdb-movie-metadata.zip to c:\\Development\\_repos\\movie-advisor\n",
      "\n"
     ]
    },
    {
     "name": "stderr",
     "output_type": "stream",
     "text": [
      "\n",
      "  0%|          | 0.00/8.89M [00:00<?, ?B/s]\n",
      " 11%|█▏        | 1.00M/8.89M [00:00<00:05, 1.64MB/s]\n",
      " 34%|███▍      | 3.00M/8.89M [00:00<00:01, 4.44MB/s]\n",
      " 56%|█████▋    | 5.00M/8.89M [00:01<00:00, 6.49MB/s]\n",
      " 79%|███████▉  | 7.00M/8.89M [00:01<00:00, 7.96MB/s]\n",
      "100%|██████████| 8.89M/8.89M [00:01<00:00, 8.99MB/s]\n",
      "100%|██████████| 8.89M/8.89M [00:01<00:00, 6.83MB/s]\n"
     ]
    }
   ],
   "source": [
    "!kaggle datasets download -d tmdb/tmdb-movie-metadata\n",
    "\n",
    "dataset_path = 'dataset'\n",
    "zip_file = 'tmdb-movie-metadata.zip'\n",
    "\n",
    "# unzip dataset\n",
    "with zipfile.ZipFile(zip_file, 'r') as zip_ref:\n",
    "    zip_ref.extractall(dataset_path)\n",
    "\n",
    "os.remove(zip_file)\n",
    "    "
   ]
  },
  {
   "cell_type": "markdown",
   "metadata": {},
   "source": [
    "### Extract data we need\n",
    "The database has extensive informaton. We will only extract the following columns:\n",
    "- title (string)\n",
    "- genres (list)\n",
    "- keywords (list)\n",
    "- overview (string)\n",
    "- vote average (float)\n",
    "- production_countries\n",
    "- release_date (string or datetime)\n",
    "- runtime in minutes (ing)"
   ]
  },
  {
   "cell_type": "code",
   "execution_count": 6,
   "metadata": {},
   "outputs": [
    {
     "name": "stdout",
     "output_type": "stream",
     "text": [
      "['budget', 'genres', 'homepage', 'id', 'keywords', 'original_language', 'original_title', 'overview', 'popularity', 'production_companies', 'production_countries', 'release_date', 'revenue', 'runtime', 'spoken_languages', 'status', 'tagline', 'title', 'vote_average', 'vote_count']\n"
     ]
    }
   ],
   "source": [
    "# load dataset and print columns\n",
    "tmdb_df = pd.read_csv(f'{dataset_path}/tmdb_5000_movies.csv')\n",
    "print(sorted(tmdb_df.columns.tolist()))"
   ]
  },
  {
   "cell_type": "code",
   "execution_count": 8,
   "metadata": {},
   "outputs": [
    {
     "data": {
      "text/html": [
       "<div>\n",
       "<style scoped>\n",
       "    .dataframe tbody tr th:only-of-type {\n",
       "        vertical-align: middle;\n",
       "    }\n",
       "\n",
       "    .dataframe tbody tr th {\n",
       "        vertical-align: top;\n",
       "    }\n",
       "\n",
       "    .dataframe thead th {\n",
       "        text-align: right;\n",
       "    }\n",
       "</style>\n",
       "<table border=\"1\" class=\"dataframe\">\n",
       "  <thead>\n",
       "    <tr style=\"text-align: right;\">\n",
       "      <th></th>\n",
       "      <th>title</th>\n",
       "      <th>genres</th>\n",
       "      <th>keywords</th>\n",
       "      <th>overview</th>\n",
       "      <th>vote_average</th>\n",
       "      <th>production_countries</th>\n",
       "      <th>release_date</th>\n",
       "      <th>runtime</th>\n",
       "    </tr>\n",
       "  </thead>\n",
       "  <tbody>\n",
       "    <tr>\n",
       "      <th>0</th>\n",
       "      <td>Avatar</td>\n",
       "      <td>[Action, Adventure, Fantasy, Science Fiction]</td>\n",
       "      <td>[culture clash, future, space war, space colon...</td>\n",
       "      <td>In the 22nd century, a paraplegic Marine is di...</td>\n",
       "      <td>7.2</td>\n",
       "      <td>[United States of America, United Kingdom]</td>\n",
       "      <td>2009-12-10</td>\n",
       "      <td>162.0</td>\n",
       "    </tr>\n",
       "    <tr>\n",
       "      <th>1</th>\n",
       "      <td>Pirates of the Caribbean: At World's End</td>\n",
       "      <td>[Adventure, Fantasy, Action]</td>\n",
       "      <td>[ocean, drug abuse, exotic island, east india ...</td>\n",
       "      <td>Captain Barbossa, long believed to be dead, ha...</td>\n",
       "      <td>6.9</td>\n",
       "      <td>[United States of America]</td>\n",
       "      <td>2007-05-19</td>\n",
       "      <td>169.0</td>\n",
       "    </tr>\n",
       "    <tr>\n",
       "      <th>2</th>\n",
       "      <td>Spectre</td>\n",
       "      <td>[Action, Adventure, Crime]</td>\n",
       "      <td>[spy, based on novel, secret agent, sequel, mi...</td>\n",
       "      <td>A cryptic message from Bond’s past sends him o...</td>\n",
       "      <td>6.3</td>\n",
       "      <td>[United Kingdom, United States of America]</td>\n",
       "      <td>2015-10-26</td>\n",
       "      <td>148.0</td>\n",
       "    </tr>\n",
       "    <tr>\n",
       "      <th>3</th>\n",
       "      <td>The Dark Knight Rises</td>\n",
       "      <td>[Action, Crime, Drama, Thriller]</td>\n",
       "      <td>[dc comics, crime fighter, terrorist, secret i...</td>\n",
       "      <td>Following the death of District Attorney Harve...</td>\n",
       "      <td>7.6</td>\n",
       "      <td>[United States of America]</td>\n",
       "      <td>2012-07-16</td>\n",
       "      <td>165.0</td>\n",
       "    </tr>\n",
       "    <tr>\n",
       "      <th>4</th>\n",
       "      <td>John Carter</td>\n",
       "      <td>[Action, Adventure, Science Fiction]</td>\n",
       "      <td>[based on novel, mars, medallion, space travel...</td>\n",
       "      <td>John Carter is a war-weary, former military ca...</td>\n",
       "      <td>6.1</td>\n",
       "      <td>[United States of America]</td>\n",
       "      <td>2012-03-07</td>\n",
       "      <td>132.0</td>\n",
       "    </tr>\n",
       "  </tbody>\n",
       "</table>\n",
       "</div>"
      ],
      "text/plain": [
       "                                      title  \\\n",
       "0                                    Avatar   \n",
       "1  Pirates of the Caribbean: At World's End   \n",
       "2                                   Spectre   \n",
       "3                     The Dark Knight Rises   \n",
       "4                               John Carter   \n",
       "\n",
       "                                          genres  \\\n",
       "0  [Action, Adventure, Fantasy, Science Fiction]   \n",
       "1                   [Adventure, Fantasy, Action]   \n",
       "2                     [Action, Adventure, Crime]   \n",
       "3               [Action, Crime, Drama, Thriller]   \n",
       "4           [Action, Adventure, Science Fiction]   \n",
       "\n",
       "                                            keywords  \\\n",
       "0  [culture clash, future, space war, space colon...   \n",
       "1  [ocean, drug abuse, exotic island, east india ...   \n",
       "2  [spy, based on novel, secret agent, sequel, mi...   \n",
       "3  [dc comics, crime fighter, terrorist, secret i...   \n",
       "4  [based on novel, mars, medallion, space travel...   \n",
       "\n",
       "                                            overview  vote_average  \\\n",
       "0  In the 22nd century, a paraplegic Marine is di...           7.2   \n",
       "1  Captain Barbossa, long believed to be dead, ha...           6.9   \n",
       "2  A cryptic message from Bond’s past sends him o...           6.3   \n",
       "3  Following the death of District Attorney Harve...           7.6   \n",
       "4  John Carter is a war-weary, former military ca...           6.1   \n",
       "\n",
       "                         production_countries release_date  runtime  \n",
       "0  [United States of America, United Kingdom]   2009-12-10    162.0  \n",
       "1                  [United States of America]   2007-05-19    169.0  \n",
       "2  [United Kingdom, United States of America]   2015-10-26    148.0  \n",
       "3                  [United States of America]   2012-07-16    165.0  \n",
       "4                  [United States of America]   2012-03-07    132.0  "
      ]
     },
     "execution_count": 8,
     "metadata": {},
     "output_type": "execute_result"
    }
   ],
   "source": [
    "# filter columns to keep and make a copy of the df\n",
    "columns = [\"title\", \"genres\", \"keywords\", \"overview\", \"vote_average\", \"production_countries\", \"release_date\", \"runtime\"]\n",
    "df = tmdb_df.copy().dropna()\n",
    "df = df[columns]\n",
    "\n",
    "# format columns with multiple values as lists\n",
    "for column in [\"genres\", \"keywords\", \"production_countries\"]:\n",
    "    df[column] = df[column].apply(lambda x: [i['name'] for i in eval(x)])\n",
    "\n",
    "# # format floats to strings\n",
    "# for column in [\"vote_average\", \"runtime\"]:\n",
    "#     df[column] = df[column].astype(str)\n",
    "\n",
    "# make sure all columns are strings\n",
    "for column in columns:\n",
    "    col = df[column][0]\n",
    "\n",
    "df.head()"
   ]
  },
  {
   "cell_type": "markdown",
   "metadata": {},
   "source": [
    "## Create Xata TMDB movies table"
   ]
  },
  {
   "cell_type": "code",
   "execution_count": 3,
   "metadata": {},
   "outputs": [],
   "source": [
    "def create_table(table_name: str, table_schema: dict) -> None:\n",
    "    \"\"\" create table if it doesn't exist \"\"\"\n",
    "    try:\n",
    "        assert xata.table().create(table_name).is_success()\n",
    "    except AssertionError as e:\n",
    "        print(f\"Error creating table '{table_name}': {e}\")\n",
    "    try:\n",
    "        resp = xata.table().set_schema(table_name, table_schema)\n",
    "        assert resp.is_success(), resp\n",
    "    except AssertionError as e:\n",
    "        print(f\"Error setting schema for table '{table_name}': {e}\")"
   ]
  },
  {
   "cell_type": "code",
   "execution_count": 10,
   "metadata": {},
   "outputs": [
    {
     "name": "stdout",
     "output_type": "stream",
     "text": [
      "{'title': 'Avatar', 'genres': ['Action', 'Adventure', 'Fantasy', 'Science Fiction'], 'keywords': ['culture clash', 'future', 'space war', 'space colony', 'society', 'space travel', 'futuristic', 'romance', 'space', 'alien', 'tribe', 'alien planet', 'cgi', 'marine', 'soldier', 'battle', 'love affair', 'anti war', 'power relations', 'mind and soul', '3d'], 'overview': 'In the 22nd century, a paraplegic Marine is dispatched to the moon Pandora on a unique mission, but becomes torn between following orders and protecting an alien civilization.', 'vote_average': 7.2, 'production_countries': ['United States of America', 'United Kingdom'], 'release_date': '2009-12-10', 'runtime': 162.0}\n"
     ]
    },
    {
     "data": {
      "text/plain": [
       "{'id': 'rec_cqlp1gs10k8fe1dfhupg',\n",
       " 'xata': {'createdAt': '2024-08-01T13:42:27.873639Z',\n",
       "  'updatedAt': '2024-08-01T13:42:27.873639Z',\n",
       "  'version': 0}}"
      ]
     },
     "execution_count": 10,
     "metadata": {},
     "output_type": "execute_result"
    }
   ],
   "source": [
    "table_name = \"tmdb_movies\"\n",
    "\n",
    "table_schema = {\n",
    "    \"columns\": [\n",
    "        {\"name\": \"title\", \"type\": \"string\"},\n",
    "        {\"name\": \"genres\", \"type\": \"multiple\"},\n",
    "        {\"name\": \"keywords\", \"type\": \"multiple\"},\n",
    "        {\"name\": \"overview\", \"type\": \"string\"},\n",
    "        {\"name\": \"vote_average\", \"type\": \"float\"},\n",
    "        {\"name\": \"production_countries\", \"type\": \"multiple\"},\n",
    "        {\"name\": \"release_date\", \"type\": \"string\"},\n",
    "        {\"name\": \"runtime\", \"type\": \"float\"},\n",
    "    ]\n",
    "}\n",
    "\n",
    "create_table(table_name, table_schema)\n",
    "\n",
    "# insert one entry as a test\n",
    "record = df.iloc[0].to_dict()\n",
    "print(record)\n",
    "\n",
    "xata.records().insert(table_name, record)"
   ]
  },
  {
   "cell_type": "code",
   "execution_count": 11,
   "metadata": {},
   "outputs": [],
   "source": [
    "# check if table exists\n",
    "table_name = \"tmdb_movies\"\n",
    "assert xata.data().query(table_name).is_success()"
   ]
  },
  {
   "cell_type": "markdown",
   "metadata": {},
   "source": [
    "### Fill up table"
   ]
  },
  {
   "cell_type": "code",
   "execution_count": null,
   "metadata": {},
   "outputs": [],
   "source": [
    "# if successful, fill up database\n",
    "table_name = \"tmdb_movies\"\n",
    "\n",
    "# METHOD 1: isert records one by one\n",
    "# records = df.to_dict(orient='records')\n",
    "# for record in records:\n",
    "    # xata.records().insert(table_name, record)\n",
    "\n",
    "# METHOD 2: using bulk insert / faster but 1000 records limit at a time\n",
    "xata.records().bulk_insert(table_name, {\"records\": df.to_dict(orient='records')[:999]})\n",
    "xata.records().bulk_insert(table_name, {\"records\": df.to_dict(orient='records')[1000:]})"
   ]
  },
  {
   "cell_type": "markdown",
   "metadata": {},
   "source": [
    "The dataset is now on xata."
   ]
  },
  {
   "cell_type": "markdown",
   "metadata": {},
   "source": [
    "## Create movie history table\n",
    "Let's now create a second table to store my movie history:\n",
    "- Title (str): movie Title\n",
    "- Status (str): watched, must_see, not_interested\n",
    "- Comment (str): some personal comment about it\n",
    "- Content (str): a short text summing up (title, status, comment) that will be used as embedding\n",
    "- Embedding (vector): an OpenAI embedding vector of the content string\n"
   ]
  },
  {
   "cell_type": "code",
   "execution_count": 4,
   "metadata": {},
   "outputs": [
    {
     "data": {
      "text/plain": [
       "<langchain_community.vectorstores.xata.XataVectorStore at 0x27c8e63cf80>"
      ]
     },
     "execution_count": 4,
     "metadata": {},
     "output_type": "execute_result"
    }
   ],
   "source": [
    "table_name = \"movie_watchlists\"\n",
    "table_schema = {\n",
    "    \"columns\": [\n",
    "        {\"name\": \"title\", \"type\": \"text\"},\n",
    "        {\"name\": \"status\", \"type\": \"text\"},\n",
    "        {\"name\": \"comment\", \"type\": \"text\"},\n",
    "        {\"name\": \"content\", \"type\": \"text\"},\n",
    "        {\"name\": \"embedding\", \"type\": \"vector\", \"vector\": {\"dimension\": 1536}}\n",
    "    ]\n",
    "}\n",
    "\n",
    "# create table\n",
    "create_table(table_name, table_schema)\n",
    "\n",
    "# create table vectorstore\n",
    "table_name = \"movie_watchlists\"\n",
    "vector_store = XataVectorStore(\n",
    "    embedding=embeddings,\n",
    "    api_key=os.getenv(\"XATA_API_KEY\"),\n",
    "    db_url=os.getenv(\"XATA_DATABASE_URL\"),\n",
    "    table_name=table_name\n",
    ")\n",
    "\n",
    "vector_store\n"
   ]
  },
  {
   "cell_type": "markdown",
   "metadata": {},
   "source": [
    "### Query table records"
   ]
  },
  {
   "cell_type": "code",
   "execution_count": 10,
   "metadata": {},
   "outputs": [
    {
     "name": "stdout",
     "output_type": "stream",
     "text": [
      "id:  rec_cqp07mp98512cinpa7j0\n",
      "Title:  Jurassic Park\n",
      "Status:  watched_liked\n",
      "Comment:  A true masterpiece. This is probably the best movie of all times, I could watch it forever and never get bored\n",
      "Content:  Jurassik Park (watched) best movie of all times, masterpiece, never get bored\n",
      "----------------------------------------------------------------------------------------------------\n",
      "id:  rec_cqp07mpflnj05l8tagc0\n",
      "Title:  Inception\n",
      "Status:  watched_liked\n",
      "Comment:  This is one of my favourite movie, especially how it handles time paradox!\n",
      "Content:  Inception (watched) one of my favourite movie, liked the time paradox\n",
      "----------------------------------------------------------------------------------------------------\n",
      "id:  rec_cqp07mpflnj05l8tagcg\n",
      "Title:  West Side Story\n",
      "Status:  watched_disliked\n",
      "Comment:  The music is good but I hate musicals in general, I didn't like it\n",
      "Content:  West Side Story (must_see) music is good but I hate musicals in general\n",
      "----------------------------------------------------------------------------------------------------\n",
      "id:  rec_cqp07n198512cinpa7jg\n",
      "Title:  The Exorcist\n",
      "Status:  not_interested\n",
      "Comment:  I don't like horror movies and I heard this one is pretty rough, I prefer not to watch it\n",
      "Content:  The Exorcist (not on watch_list) I dont like horror movies\n",
      "----------------------------------------------------------------------------------------------------\n",
      "id:  rec_cqp07n1flnj05l8tagd0\n",
      "Title:  Once Upon a Time in America\n",
      "Status:  must_see\n",
      "Comment:  I have been willing to watch it for a long time, but it's a long movie and I never found the time to watch it\n",
      "Content:  Once Upon a Time in America (must_see) Very long, never found the time to watch it\n",
      "----------------------------------------------------------------------------------------------------\n"
     ]
    }
   ],
   "source": [
    "# query the content of movie_history\n",
    "table_name = \"movie_watchlists\"\n",
    "\n",
    "def get_table_records(table_name: str) -> list:\n",
    "    records = xata.data().query(table_name)[\"records\"]\n",
    "    return records\n",
    "\n",
    "records = get_table_records(table_name)\n",
    "\n",
    "if not records:\n",
    "    print(\"No records found, table is empty.\")\n",
    "else:    \n",
    "    for rec in records:\n",
    "        print(\"id: \", rec[\"id\"])\n",
    "        print(\"Title: \", rec[\"title\"])\n",
    "        print(\"Status: \", rec[\"status\"])\n",
    "        print(\"Comment: \", rec[\"comment\"])\n",
    "        print(\"Content: \", rec[\"content\"])\n",
    "        print(sep)\n",
    "\n"
   ]
  },
  {
   "cell_type": "markdown",
   "metadata": {},
   "source": [
    "### Fill up table with some test records"
   ]
  },
  {
   "cell_type": "code",
   "execution_count": 6,
   "metadata": {},
   "outputs": [],
   "source": [
    "def add_update_movie(table_name: str, movie_record: dict) -> None:\n",
    "\n",
    "    table_records = get_table_records(table_name)\n",
    "\n",
    "    # delete record if it exists\n",
    "    for rec in table_records:\n",
    "        if rec[\"title\"] == movie_record[\"title\"]:\n",
    "            xata.records().delete(table_name, rec[\"id\"])\n",
    "            break\n",
    "\n",
    "    # add updated record\n",
    "    doc = Document(page_content=movie_record[\"content\"], metadata={k: v for k, v in movie_record.items() if k != \"content\"})\n",
    "    vector_store.add_documents([doc])"
   ]
  },
  {
   "cell_type": "code",
   "execution_count": 9,
   "metadata": {},
   "outputs": [],
   "source": [
    "rec_1 = {\n",
    "    \"title\": \"Inception\",\n",
    "    \"status\": \"watched_liked\",\n",
    "    \"comment\": \"This is one of my favourite movie, especially how it handles time paradox!\",\n",
    "    \"content\": \"Inception (watched) one of my favourite movie, liked the time paradox\"\n",
    "}\n",
    "\n",
    "rec_2 = {\n",
    "    \"title\": \"Jurassic Park\",\n",
    "    \"status\": \"watched_liked\",\n",
    "    \"comment\": \"A true masterpiece. This is probably the best movie of all times, I could watch it forever and never get bored\",\n",
    "    \"content\": \"Jurassik Park (watched) best movie of all times, masterpiece, never get bored\"\n",
    "}\n",
    "\n",
    "rec_3 = {\n",
    "    \"title\": \"West Side Story\",\n",
    "    \"status\": \"watched_disliked\",\n",
    "    \"comment\": \"The music is good but I hate musicals in general, I didn't like it\",\n",
    "    \"content\": \"West Side Story (must_see) music is good but I hate musicals in general\"\n",
    "}\n",
    "\n",
    "rec_4 = {\n",
    "    \"title\": \"Once Upon a Time in America\",\n",
    "    \"status\": \"must_see\",\n",
    "    \"comment\": \"I have been willing to watch it for a long time, but it's a long movie and I never found the time to watch it\",\n",
    "    \"content\": \"Once Upon a Time in America (must_see) Very long, never found the time to watch it\"\n",
    "}\n",
    "\n",
    "rec_5 = {\n",
    "    \"title\": \"The Exorcist\",\n",
    "    \"status\": \"not_interested\",\n",
    "    \"comment\": \"I don't like horror movies and I heard this one is pretty rough, I prefer not to watch it\",\n",
    "    \"content\": \"The Exorcist (not on watch_list) I dont like horror movies\"\n",
    "}\n",
    "\n",
    "table_name = \"movie_watchlists\"\n",
    "\n",
    "for rec in [rec_1, rec_2, rec_3, rec_4, rec_5]:\n",
    "    add_update_movie(table_name, rec)\n"
   ]
  },
  {
   "cell_type": "markdown",
   "metadata": {},
   "source": [
    "### Query columns with filters"
   ]
  },
  {
   "cell_type": "code",
   "execution_count": 21,
   "metadata": {},
   "outputs": [
    {
     "name": "stdout",
     "output_type": "stream",
     "text": [
      "Titles of movies I liked:  ['Jurassic Park', 'Inception']\n"
     ]
    }
   ],
   "source": [
    "table_name = \"movie_watchlists\"\n",
    "\n",
    "records = xata.data().query(\n",
    "    table_name=table_name,\n",
    "    payload={\n",
    "        \"columns\": [\"title\"],\n",
    "        \"filter\": {\n",
    "            \"status\": \"watched_liked\"\n",
    "        }\n",
    "    }\n",
    ")\n",
    "titles = [rec[\"title\"] for rec in records[\"records\"]]\n",
    "print(\"Titles of movies I liked: \", titles)"
   ]
  },
  {
   "cell_type": "markdown",
   "metadata": {},
   "source": [
    "### Add a new record or update an existing one in the table"
   ]
  },
  {
   "cell_type": "code",
   "execution_count": 32,
   "metadata": {},
   "outputs": [],
   "source": [
    "rec_6 = {\n",
    "    \"title\": \"eXistenZ\",\n",
    "    \"status\": \"watched\",\n",
    "    \"comment\": \"I didnt like it, I found it very confusing and the story was sometimes disturbing\",\n",
    "    \"content\": \"eXistenZ (watched) Didnt like it, confusing, disturbing\"\n",
    "}\n",
    "\n",
    "rec_7 = {\n",
    "    \"title\": \"West Side Story\",\n",
    "    \"status\": \"watched\",\n",
    "    \"comment\": \"I finally watched it last night, it was amazing, thrilling music\",\n",
    "    \"content\": \"West Side Story (watched) amazing, thrilling music\"\n",
    "}\n",
    "\n",
    "table_name = \"movie_watchlists\"\n",
    "for rec in [rec_6, rec_7]:\n",
    "    add_update_movie(table_name, rec)\n"
   ]
  },
  {
   "cell_type": "markdown",
   "metadata": {},
   "source": [
    "### Delete a record from the table"
   ]
  },
  {
   "cell_type": "code",
   "execution_count": 33,
   "metadata": {},
   "outputs": [
    {
     "name": "stdout",
     "output_type": "stream",
     "text": [
      "Record 'Inception' deleted successfully\n"
     ]
    }
   ],
   "source": [
    "def delete_movie_from_table(table_name: str, title: str) -> None:\n",
    "    records = get_table_records(table_name)\n",
    "    for rec in records:\n",
    "        if rec[\"title\"] == title:\n",
    "            xata.records().delete(table_name, rec[\"id\"])\n",
    "            print(f\"Record '{title}' deleted successfully\")\n",
    "            return\n",
    "    print(f\"Record '{title}' not found\")\n",
    "\n",
    "table_name = \"movie_watchlists\"\n",
    "delete_movie_from_table(table_name, title=\"Inception\")"
   ]
  },
  {
   "cell_type": "code",
   "execution_count": 36,
   "metadata": {},
   "outputs": [
    {
     "name": "stdout",
     "output_type": "stream",
     "text": [
      "- watched: ['Jurassic Park', 'eXistenZ', 'West Side Story']\n",
      "- must_see: ['Once Upon a Time in America']\n",
      "- not_interested: ['The Exorcist']\n"
     ]
    }
   ],
   "source": [
    "def get_watch_lists(table_name: str) -> dict:\n",
    "    \"\"\"\n",
    "    Return the list of watched, not watched and blacklists movies in a dict\n",
    "    \"\"\"\n",
    "    \n",
    "    records = get_table_records(table_name)\n",
    "\n",
    "    watched = [rec['title'] for rec in records if rec[\"status\"] == \"watched\"]\n",
    "    must_see = [rec['title'] for rec in records if rec[\"status\"] == \"must_see\"]\n",
    "    not_interested = [rec['title'] for rec in records if rec[\"status\"] == \"not_interested\"]\n",
    "\n",
    "    return {\"watched\": watched, \"must_see\": must_see, \"not_interested\": not_interested}\n",
    "\n",
    "table_name = \"movie_watchlists\"\n",
    "watch_dict = get_watch_lists(table_name)\n",
    "for k, v in watch_dict.items():\n",
    "    print(f\"- {k}: {v}\")"
   ]
  },
  {
   "cell_type": "markdown",
   "metadata": {},
   "source": [
    "### Similarity Search test\n",
    "Let's see if we can extract information from our history now."
   ]
  },
  {
   "cell_type": "code",
   "execution_count": 42,
   "metadata": {},
   "outputs": [
    {
     "name": "stdout",
     "output_type": "stream",
     "text": [
      "Query:  What movies am I most affraid of?\n",
      "Found:  The Exorcist (not on watch_list) I dont like horror movies\n",
      "----------------------------------------------------------------------------------------------------\n",
      "Query:  What is my favourite movie of all times?\n",
      "Found:  Jurassik Park (watched) best movie of all times, masterpiece, never get bored\n"
     ]
    }
   ],
   "source": [
    "query = \"What movies am I most affraid of?\"\n",
    "found_docs = vector_store.similarity_search(query, k=1)\n",
    "print(\"Query: \", query)\n",
    "print(\"Found: \", found_docs[0].page_content)\n",
    "\n",
    "print(sep)\n",
    "\n",
    "query = \"What is my favourite movie of all times?\"\n",
    "found_docs = vector_store.similarity_search(query, k=1)\n",
    "print(\"Query: \", query)\n",
    "print(\"Found: \", found_docs[0].page_content)"
   ]
  },
  {
   "cell_type": "markdown",
   "metadata": {},
   "source": [
    "## Build our langchain structure"
   ]
  },
  {
   "cell_type": "markdown",
   "metadata": {},
   "source": [
    "### LLM Model"
   ]
  },
  {
   "cell_type": "code",
   "execution_count": 46,
   "metadata": {},
   "outputs": [],
   "source": [
    "llm_gpt4 = ChatOpenAI(model='gpt-4o-mini', api_key=os.getenv(\"OPENAI_API_KEY\"))"
   ]
  },
  {
   "cell_type": "markdown",
   "metadata": {},
   "source": [
    "### Similarity Retriever"
   ]
  },
  {
   "cell_type": "code",
   "execution_count": 44,
   "metadata": {},
   "outputs": [
    {
     "name": "stdout",
     "output_type": "stream",
     "text": [
      "Query:  Do I like horror movies?\n",
      "Found:  The Exorcist (not on watch_list) I dont like horror movies\n"
     ]
    }
   ],
   "source": [
    "retriever = vector_store.as_retriever(search_type=\"similarity\", search_kwargs={\"k\": 1})\n",
    "query = \"Do I like horror movies?\"\n",
    "results = retriever.invoke(query)\n",
    "print(\"Query: \", query)\n",
    "print(\"Found: \", results[0].page_content)"
   ]
  },
  {
   "cell_type": "markdown",
   "metadata": {},
   "source": [
    "### String output parser\n",
    "Create a string output parser for general chatting with the advisor about movies"
   ]
  },
  {
   "cell_type": "code",
   "execution_count": 47,
   "metadata": {},
   "outputs": [],
   "source": [
    "str_output_parser = StrOutputParser()"
   ]
  },
  {
   "cell_type": "markdown",
   "metadata": {},
   "source": [
    "### Test string output parser using a simple chain"
   ]
  },
  {
   "cell_type": "code",
   "execution_count": 48,
   "metadata": {},
   "outputs": [
    {
     "name": "stdout",
     "output_type": "stream",
     "text": [
      "It depends on your mood and preferences! Here are a few suggestions across different genres:\n",
      "\n",
      "1. **Action**: *Mad Max: Fury Road* - A high-octane adventure with stunning visuals.\n",
      "2. **Comedy**: *The Grand Budapest Hotel* - A quirky and visually delightful film by Wes Anderson.\n",
      "3. **Drama**: *The Shawshank Redemption* - A powerful story of hope and friendship.\n",
      "4. **Horror**: *Get Out* - A thought-provoking and suspenseful thriller.\n",
      "5. **Romance**: *La La Land* - A beautiful musical about love and dreams.\n",
      "6. **Sci-Fi**: *Inception* - A mind-bending journey through dreams and reality.\n",
      "\n",
      "Let me know if you have a specific genre in mind, and I can provide more tailored suggestions!\n"
     ]
    }
   ],
   "source": [
    "# create prompt from template\n",
    "test_prompt = PromptTemplate(\n",
    "    template=\"Answer the user query.\\n{format_instructions}\\n{query}\\n\",\n",
    "    input_variables=[\"query\"],\n",
    "    partial_variables={\"format_instructions\": \"String\"},\n",
    ")\n",
    "\n",
    "str_chain = test_prompt | llm_gpt4 | str_output_parser\n",
    "response = str_chain.invoke({\"query\": \"What movie should I watch tonight?\"})\n",
    "print(response)"
   ]
  },
  {
   "cell_type": "markdown",
   "metadata": {},
   "source": [
    "### JSON Output Parser\n",
    "[Documentation](https://python.langchain.com/v0.1/docs/modules/model_io/output_parsers/types/json/)  \n",
    "Test using a JSON output parser. I won't use it then in my final solution.  "
   ]
  },
  {
   "cell_type": "code",
   "execution_count": 49,
   "metadata": {},
   "outputs": [
    {
     "name": "stdout",
     "output_type": "stream",
     "text": [
      "pydantic_object=<class '__main__.Recommendation'>\n"
     ]
    }
   ],
   "source": [
    "model = ChatOpenAI(temperature=0)\n",
    "\n",
    "# define desired data structure\n",
    "class Recommendation(BaseModel):\n",
    "    title: str = Field(description=\"The movie title you recommend\")\n",
    "    comment: str = Field(description=\"My personal opinion about the movie\")\n",
    "    watched: bool = Field(description=\"True to add it to the list of watched movies, else False\")\n",
    "    watchlist: bool = Field(description=\"True to add it to the list of movies I would like to watch, else False\")\n",
    "    blacklist: bool = Field(description=\"True to add it to the list of movies I don't want to watch, else False\")\n",
    "    embedding: bool = Field(description=\"A short text that describes my answer as follow: {movie_title} ({watched/watchlist/blacklist}) {personal_opinion}. It will be stored as an embedding vector in the database\")\n",
    "\n",
    "json_output_parser = JsonOutputParser(pydantic_object=Recommendation)\n",
    "print(json_output_parser)"
   ]
  },
  {
   "cell_type": "markdown",
   "metadata": {},
   "source": [
    "### Test JSON output parser with a simple chain"
   ]
  },
  {
   "cell_type": "code",
   "execution_count": 50,
   "metadata": {},
   "outputs": [
    {
     "data": {
      "text/plain": [
       "{'title': 'Inception',\n",
       " 'comment': \"One of the best mind-bending movies I've ever seen\",\n",
       " 'watched': False,\n",
       " 'watchlist': True,\n",
       " 'blacklist': False,\n",
       " 'embedding': \"Inception (Watchlist) One of the best mind-bending movies I've ever seen\"}"
      ]
     },
     "execution_count": 50,
     "metadata": {},
     "output_type": "execute_result"
    }
   ],
   "source": [
    "# test json parser\n",
    "test_prompt = PromptTemplate(\n",
    "    template=\"Answer the user query.\\n{format_instructions}\\n{query}\\n\",\n",
    "    input_variables=[\"query\"],\n",
    "    partial_variables={\"format_instructions\": json_output_parser.get_format_instructions()},\n",
    ")\n",
    "\n",
    "json_chain = test_prompt | model | json_output_parser\n",
    "json_chain.invoke({\"query\": \"What movie should I watch tonight?\"})"
   ]
  },
  {
   "cell_type": "markdown",
   "metadata": {},
   "source": [
    "### Project prompt"
   ]
  },
  {
   "cell_type": "code",
   "execution_count": 52,
   "metadata": {},
   "outputs": [
    {
     "name": "stdout",
     "output_type": "stream",
     "text": [
      "input_variables=['must_see', 'not_interested', 'preferences', 'question', 'watched'] messages=[HumanMessagePromptTemplate(prompt=PromptTemplate(input_variables=['must_see', 'not_interested', 'preferences', 'question', 'watched'], template=\"You are a movie advisor offering me recommendations based on my preferences and watch history from these 3 lists:\\n- Watched: Movies I have already seen: {watched}.\\n- Watchlist: Movies I haven't seen yet but I want to: {must_see}.\\n- Blacklist: Movies I haven't seen yet but I don't want to: {not_interested}.\\nOnly recommend one movie at a time.\\nMy preferences related to the question to orient your answer: {preferences}.\\nQuestion: {question}.\\n\"))]\n"
     ]
    }
   ],
   "source": [
    "template = \"\"\"You are a movie advisor offering me recommendations based on my preferences and watch history from these 3 lists:\n",
    "- Watched: Movies I have already seen: {watched}.\n",
    "- Watchlist: Movies I haven't seen yet but I want to: {must_see}.\n",
    "- Blacklist: Movies I haven't seen yet but I don't want to: {not_interested}.\n",
    "Only recommend one movie at a time.\n",
    "My preferences related to the question to orient your answer: {preferences}.\n",
    "Question: {question}.\n",
    "\"\"\"\n",
    "\n",
    "prompt = ChatPromptTemplate.from_template(template)\n",
    "print(prompt)\n"
   ]
  },
  {
   "cell_type": "markdown",
   "metadata": {},
   "source": [
    "### Project chain\n",
    "This chain passes the 3 list of movies and uses the similarity retriever to pass context information to help the LLM answer the question more precisely. I won't use this technique in the final project, as Agents are doing this under the hood using Tools. See next section."
   ]
  },
  {
   "cell_type": "code",
   "execution_count": 59,
   "metadata": {},
   "outputs": [
    {
     "name": "stdout",
     "output_type": "stream",
     "text": [
      "Question:  Could you recommand a good horror movie?\n",
      "Answer:  Since you've indicated that you don't like horror movies and have blacklisted \"The Exorcist,\" I won't recommend any horror films. Instead, how about exploring a different genre? Based on your watched list, you might enjoy something adventure-related or a classic. Would you like a recommendation from those genres?\n"
     ]
    }
   ],
   "source": [
    "# define input\n",
    "table_name = \"movie_watchlists\"\n",
    "history = get_watch_lists(table_name)\n",
    "\n",
    "watched = (lambda x: history[\"watched\"])\n",
    "must_see = (lambda x: history[\"must_see\"])\n",
    "not_interested = (lambda x: history[\"not_interested\"])\n",
    "\n",
    "preferences = (lambda x: x[\"question\"]) | retriever\n",
    "\n",
    "question = (lambda x: x[\"question\"])\n",
    "\n",
    "input_var = {\"watched\": watched, \"must_see\": must_see, \"not_interested\": not_interested, \"preferences\": preferences, \"question\": question}\n",
    "\n",
    "# define chain\n",
    "chain = (input_var | prompt | llm_gpt4 | str_output_parser)\n",
    "\n",
    "# invoke answer\n",
    "question = \"Could you recommand a good horror movie?\"\n",
    "answer = chain.invoke({\"question\": question})\n",
    "print(\"Question: \", question)\n",
    "print(\"Answer: \", answer)"
   ]
  },
  {
   "cell_type": "markdown",
   "metadata": {},
   "source": [
    "### Build Tools\n",
    "This is the solution I am using for this project. I create a langchain agent and give it access to custom tools to perform operations (check my watch lists on Xata, add or remove titles and info to them, etc.)\n",
    "\n",
    "Let's build tools for the agent to use."
   ]
  },
  {
   "cell_type": "code",
   "execution_count": 60,
   "metadata": {},
   "outputs": [],
   "source": [
    "def remove_title_from_all_lists(title):\n",
    "    \"\"\"Make sure a title is in none of the lists\"\"\"\n",
    "    global watch_dict\n",
    "    for titles in watch_dict.values():\n",
    "        if title in titles:\n",
    "            titles.remove(title)\n",
    "\n",
    "@tool\n",
    "def add_title_to_list_of_movies_I_have_already_watched(title: str) -> None:\n",
    "    \"\"\"Add a movie title to the list of movies I have already watched in the past\"\"\"\n",
    "    global watch_dict\n",
    "    if title not in watch_dict[\"watched\"]:\n",
    "        remove_title_from_all_lists(title)\n",
    "        watch_dict[\"watched\"].append(title)\n",
    "\n",
    "@tool\n",
    "def add_title_to_list_of_movies_I_want_to_watch_later(title: str) -> None:\n",
    "    \"\"\"Add a movie title to the list of movies I want to watch later\"\"\"\n",
    "    global watch_dict\n",
    "    if title not in watch_dict[\"must_see\"]:\n",
    "        remove_title_from_all_lists(title)\n",
    "        watch_dict[\"must_see\"].append(title)\n",
    "\n",
    "@tool\n",
    "def add_title_to_list_of_movies_I_never_want_to_watch(title: str) -> None:\n",
    "    \"\"\"Add a movie title to the list of movies I never want to watch\"\"\"\n",
    "    global watch_dict\n",
    "    if title not in watch_dict[\"not_interested\"]:\n",
    "        remove_title_from_all_lists(title)\n",
    "        watch_dict[\"not_interested\"].append(title)\n",
    "\n",
    "@tool\n",
    "def remove_title_from_list_of_movies_I_have_already_watched(title: str) -> None:\n",
    "    \"\"\"Remove a movie title from the list of movies I have already watched\"\"\"\n",
    "    global watch_dict\n",
    "    if title in watch_dict[\"watched\"]:\n",
    "        watch_dict[\"watched\"].remove(title)\n",
    "\n",
    "@tool\n",
    "def remove_title_from_list_of_movies_I_want_to_watch_later(title: str) -> None:\n",
    "    \"\"\"Remove a movie title from the list of movies I want to see\"\"\"\n",
    "    global watch_dict\n",
    "    if title in watch_dict[\"must_see\"]:\n",
    "        watch_dict[\"must_see\"].remove(title)\n",
    "\n",
    "@tool\n",
    "def add_title_from_list_of_movies_I_never_want_to_watch(title: str) -> None:\n",
    "    \"\"\"Remove a movie title from the list of movies I'm not interested in\"\"\"\n",
    "    global watch_dict\n",
    "    if title in watch_dict[\"not_interested\"]:\n",
    "        watch_dict[\"not_interested\"].remove(title)\n",
    "\n",
    "\n",
    "# List of tools\n",
    "tools = [\n",
    "    add_title_to_list_of_movies_I_have_already_watched,\n",
    "    add_title_to_list_of_movies_I_want_to_watch_later,\n",
    "    add_title_to_list_of_movies_I_never_want_to_watch,\n",
    "    remove_title_from_list_of_movies_I_have_already_watched,\n",
    "    remove_title_from_list_of_movies_I_want_to_watch_later,\n",
    "    add_title_from_list_of_movies_I_never_want_to_watch\n",
    "]\n",
    "\n",
    "# link our model to the tools\n",
    "gpt4_with_tools = llm_gpt4.bind_tools(tools) \n"
   ]
  },
  {
   "cell_type": "markdown",
   "metadata": {},
   "source": [
    "### Create Agent"
   ]
  },
  {
   "cell_type": "markdown",
   "metadata": {},
   "source": [
    "Let's now create an agent that will use the tools to update our lists."
   ]
  },
  {
   "cell_type": "code",
   "execution_count": 67,
   "metadata": {},
   "outputs": [
    {
     "name": "stdout",
     "output_type": "stream",
     "text": [
      "input_variables=['agent_scratchpad', 'input'] optional_variables=['chat_history'] input_types={'chat_history': typing.List[typing.Union[langchain_core.messages.ai.AIMessage, langchain_core.messages.human.HumanMessage, langchain_core.messages.chat.ChatMessage, langchain_core.messages.system.SystemMessage, langchain_core.messages.function.FunctionMessage, langchain_core.messages.tool.ToolMessage]], 'agent_scratchpad': typing.List[typing.Union[langchain_core.messages.ai.AIMessage, langchain_core.messages.human.HumanMessage, langchain_core.messages.chat.ChatMessage, langchain_core.messages.system.SystemMessage, langchain_core.messages.function.FunctionMessage, langchain_core.messages.tool.ToolMessage]]} partial_variables={'chat_history': []} metadata={'lc_hub_owner': 'hwchase17', 'lc_hub_repo': 'openai-tools-agent', 'lc_hub_commit_hash': 'c18672812789a3b9697656dd539edf0120285dcae36396d0b548ae42a4ed66f5'} messages=[SystemMessagePromptTemplate(prompt=PromptTemplate(input_variables=[], template='You are a helpful assistant')), MessagesPlaceholder(variable_name='chat_history', optional=True), HumanMessagePromptTemplate(prompt=PromptTemplate(input_variables=['input'], template='{input}')), MessagesPlaceholder(variable_name='agent_scratchpad')]\n",
      "{'watched': [], 'must_see': [], 'not_interested': []}\n",
      "----------------------------------------------------------------------------------------------------\n",
      "Me:  Could you please add the movie 'The Matrix' to my watched list?\n",
      "Agent:  The movie 'The Matrix' has been successfully added to your watched list.\n",
      "Watch history:  {'watched': ['The Matrix'], 'must_see': [], 'not_interested': []}\n"
     ]
    }
   ],
   "source": [
    "# import premade prompt\n",
    "prompt = hub.pull(\"hwchase17/openai-tools-agent\")\n",
    "print(prompt)\n",
    "\n",
    "agent = create_tool_calling_agent(llm_gpt4, tools, prompt)\n",
    "\n",
    "agent_executor = AgentExecutor(agent=agent, tools=tools, verbose=False)\n",
    "\n",
    "watch_dict = {\"watched\": [], \"must_see\": [], \"not_interested\": []}\n",
    "print(watch_dict)\n",
    "\n",
    "result = agent_executor.invoke(\n",
    "    {\n",
    "        \"input\": \"Could you please add the movie 'The Matrix' to my watched list?\"\n",
    "    }\n",
    ")\n",
    "\n",
    "print(sep)\n",
    "print(\"Me: \",result[\"input\"])\n",
    "print(\"Agent: \", result[\"output\"])\n",
    "print(\"Watch history: \", watch_dict)"
   ]
  },
  {
   "cell_type": "markdown",
   "metadata": {},
   "source": [
    "### Test the agent in a while loop\n",
    "Tell the LLM to add movies to one of your lists.  \n",
    "Example:  \n",
    "- I have watched The Matrix last night\n",
    "- I should really watch Inception one day\n",
    "- I never want to see The Exorcist!\n",
    "\n",
    "Leave the field blank to exit"
   ]
  },
  {
   "cell_type": "code",
   "execution_count": 69,
   "metadata": {},
   "outputs": [
    {
     "name": "stdout",
     "output_type": "stream",
     "text": [
      "Watch history: {'watched': [], 'must_see': [], 'not_interested': []}\n",
      "----------------------------------------------------------------------------------------------------\n",
      "Me:  I have seen The Matrix\n",
      "Agent:  I've added \"The Matrix\" to your list of movies that you have already watched. If you need anything else, feel free to ask!\n",
      "Watch history: {'watched': ['The Matrix'], 'must_see': [], 'not_interested': []}\n",
      "----------------------------------------------------------------------------------------------------\n",
      "Me:  I never want to see Inception\n",
      "Agent:  I've added \"Inception\" to your list of movies you never want to watch.\n",
      "Watch history: {'watched': ['The Matrix'], 'must_see': [], 'not_interested': ['Inception']}\n"
     ]
    }
   ],
   "source": [
    "watch_dict = {\"watched\": [], \"must_see\": [], \"not_interested\": []}\n",
    "\n",
    "while True:\n",
    "\n",
    "    print(\"Watch history:\", watch_dict)\n",
    "    \n",
    "    input_text = input(\"Alex:\")\n",
    "    if not input_text:\n",
    "        break\n",
    "\n",
    "    result = agent_executor.invoke({\"input\": input_text})\n",
    "    print(sep)\n",
    "    print(\"Me: \",result[\"input\"])\n",
    "    print(\"Agent: \", result[\"output\"])"
   ]
  },
  {
   "cell_type": "markdown",
   "metadata": {},
   "source": [
    "## Query the TMDB database\n",
    "The online TMDB database has more than 1 million movie entries. So it is worth querying it directly and not use the dataset like we did above, which only has 5000 entries.\n",
    "\n",
    "Let's use langchain tool to query the TMDB database for a movie that our LLM would potentially not know about.  \n",
    "\n",
    "We can see below that gpt-4o has not heard about the 2024 upcoming marvel movie 'Deadpool & Wolverine'. However, you can find information about it in the TMDB database [here](https://www.themoviedb.org/movie/533535-deadpool-wolverine)."
   ]
  },
  {
   "cell_type": "code",
   "execution_count": 71,
   "metadata": {},
   "outputs": [
    {
     "name": "stdout",
     "output_type": "stream",
     "text": [
      "As of my last update, \"Deadpool & Wolverine\" doesn't exist as a standalone movie; however, Deadpool and Wolverine share a connection in the \"X-Men\" franchise, with Wolverine often serving as a foil to Deadpool’s irreverent humor. If you're referring to \"Deadpool 3,\" it involves Deadpool navigating the multiverse and teaming up with Wolverine for a chaotic adventure.\n"
     ]
    }
   ],
   "source": [
    "# Let's find a movie that gpt4o does not know about\n",
    "test_prompt = PromptTemplate(\n",
    "    template=\"You are a movie advisor, you answer questions about movies. Keep your answers short, 1 or 2 sentences max.\\n{format_instructions}\\n{query}\\n\",\n",
    "    input_variables=[\"query\"],\n",
    "    partial_variables={\"format_instructions\": \"String\"},\n",
    ")\n",
    "\n",
    "str_chain = test_prompt | llm_gpt4 | str_output_parser\n",
    "response = str_chain.invoke({\"query\": \"Give me the plot of the movie 'Deadpool & Wolverine'?\"})\n",
    "print(response)"
   ]
  },
  {
   "cell_type": "markdown",
   "metadata": {},
   "source": [
    "Now let's create an agent with access to the tmdb-api tool, so gpt4o can do api calls to the TMDB database when needed.\n",
    "\n",
    "You will need a TMDB account with an API-key for this.  \n",
    "\n",
    "[TMDP API Documentation](https://developer.themoviedb.org/docs/getting-started)"
   ]
  },
  {
   "cell_type": "markdown",
   "metadata": {},
   "source": [
    "### Let's do a simple query to the database"
   ]
  },
  {
   "cell_type": "code",
   "execution_count": 73,
   "metadata": {},
   "outputs": [
    {
     "name": "stdout",
     "output_type": "stream",
     "text": [
      "Title: Inception, Release Date: 2010-07-15, Overview: Cobb, a skilled thief who commits corporate espionage by infiltrating the subconscious of his targets is offered a chance to regain his old life as payment for a task considered to be impossible: \"inception\", the implantation of another person's idea into a target's subconscious.\n",
      "----------------------------------------------------------------------------------------------------\n",
      "Title: The Crack: Inception, Release Date: 2019-10-04, Overview: Madrid, Spain, 1975; shortly after the end of the Franco dictatorship. Six months after the mysterious death of his lover, a prestigious tailor, a married woman visits the office of the young Germán Areta, a former police officer turned private detective, to request his professional services.\n",
      "----------------------------------------------------------------------------------------------------\n",
      "Title: Inception: The Cobol Job, Release Date: 2010-12-07, Overview: This \"Inception\" prequel unfolds courtesy of a beautiful Motion Comic, and explains how Cobb, Arthur and Nash were enlisted by Cobol Engineering.\n",
      "----------------------------------------------------------------------------------------------------\n",
      "Title: The Inception of Dramatic Representation, Release Date: , Overview: On certain Adavus: the basic steps in Bharatanatyam. The first part covers Tatta Adavu, Natta Adavu, Visharu Adavu , Tatti Metti Adavu and Teermanam Adavu.\n",
      "----------------------------------------------------------------------------------------------------\n",
      "Title: Bikini Inception, Release Date: 2015-05-19, Overview: Two flunky Janitors in an Arctic Lab perform unauthorized experiments transporting them to a beach dream world in Malibu California w/50 beautiful young girls and a female Brazilian PhD Student wearing only a bra and panties. A '67 Muscle car races chases horses guns fights surfing, sumo wrestler, wolf monster, underwater scenes tons of gorgeous models. Sexy sci-fi fun.\n",
      "----------------------------------------------------------------------------------------------------\n",
      "Title: Inception: Music from the Motion Picture, Release Date: 2010-12-07, Overview: The Special Features Blu-ray disc contains a lossless DTS-HD MA 5.1 surround mix of the Inception soundtrack.\n",
      "----------------------------------------------------------------------------------------------------\n",
      "Title: WWA The Inception, Release Date: 2001-10-26, Overview: The first World Wrestling Allstars pay per view, live from Sydney, Australia! A tournament titled \"7 Deadly Sins\", each round having a stipulation match, the winner will be crowned the first ever WWA Heavyweight Champion! Wrestlers such as Jeff Jarrett, Road Dogg, Jerry Lawler all compete in the tournament, with the WWA Commissioner, Bret Hart not too far away to make sure nothing gets to far out of hand!\n",
      "----------------------------------------------------------------------------------------------------\n"
     ]
    }
   ],
   "source": [
    "import requests\n",
    "\n",
    "def search_movie(api_key, query):\n",
    "    # Base URL for the search endpoint\n",
    "    url = \"https://api.themoviedb.org/3/search/movie\"\n",
    "    \n",
    "    # Parameters for the API request\n",
    "    params = {\n",
    "        'api_key': api_key,\n",
    "        'query': query\n",
    "    }\n",
    "    \n",
    "    # Making the GET request to the API\n",
    "    response = requests.get(url, params=params)\n",
    "\n",
    "    # Checking if the request was successful\n",
    "    if response.status_code == 200:\n",
    "        # Parsing the JSON response\n",
    "        data = response.json()\n",
    "        return data['results']\n",
    "    else:\n",
    "        # If the request failed, print the status code\n",
    "        print(f\"Error: {response.status_code}\")\n",
    "        return None\n",
    "\n",
    "# Example usage\n",
    "api_key = os.getenv(\"TMDB_BEARER_TOKEN\")\n",
    "query = \"Inception\"\n",
    "\n",
    "results = search_movie(api_key, query)\n",
    "\n",
    "if results:\n",
    "    for movie in results:\n",
    "        print(f\"Title: {movie['title']}, Release Date: {movie['release_date']}, Overview: {movie['overview']}\")\n",
    "        print(sep)\n",
    "else:\n",
    "    print(\"No results found.\")\n"
   ]
  },
  {
   "cell_type": "markdown",
   "metadata": {},
   "source": [
    "### Using Langchain tmdb-api tool\n",
    "So far I could not get this tool to work. It seems that it's not adding my api-key to the request url and I get an error.  \n",
    "I opened a github ticket [here](https://github.com/langchain-ai/langchain/discussions/24612) but the bot could not help me solve it.  \n",
    "However, this is not a big problem. We can go around this problem by simply using the TMDB API to send a query inside a langchain Tool.\n"
   ]
  },
  {
   "cell_type": "code",
   "execution_count": null,
   "metadata": {},
   "outputs": [],
   "source": [
    "import os\n",
    "from langchain.agents import AgentExecutor, create_tool_calling_agent, load_tools\n",
    "from langchain.prompts import ChatPromptTemplate\n",
    "from langchain_openai import ChatOpenAI\n",
    "\n",
    "# load api-keys from environment variables or specify them below\n",
    "openai_api_key = os.getenv(\"OPENAI_API_KEY\")\n",
    "tmdb_bearer_token = os.getenv(\"TMDB_BEARER_TOKEN\")\n",
    "\n",
    "# define the language model\n",
    "llm = ChatOpenAI(model='gpt-4o', api_key=openai_api_key)\n",
    "\n",
    "# load the tmdb-api tool\n",
    "tools = load_tools([\"tmdb-api\"], llm=llm, tmdb_bearer_token=tmdb_bearer_token)\n",
    "\n",
    "# define the prompt\n",
    "prompt = ChatPromptTemplate.from_messages(\n",
    "    [\n",
    "        (\"system\", \"You are a movie advisor, you answer questions about movies.\"),\n",
    "        (\"system\", \"If you don't know an answer, invoke the TMDB-API with a question in natural language.\"),\n",
    "        (\"human\", \"{query}\"),\n",
    "        (\"placeholder\", \"{agent_scratchpad}\"),\n",
    "    ]\n",
    ")\n",
    "\n",
    "# create the agent\n",
    "agent = create_tool_calling_agent(llm, tools, prompt)\n",
    "agent_executor = AgentExecutor(agent=agent, tools=tools, verbose=True)\n",
    "\n",
    "# test the agent\n",
    "result = agent_executor.invoke(\n",
    "    {\n",
    "        \"query\": \"Give me the plot of movie 'Inception'?\",\n",
    "    }\n",
    ")\n",
    "\n",
    "# print the result\n",
    "print(\"Agent: \", result[\"output\"])"
   ]
  },
  {
   "cell_type": "markdown",
   "metadata": {},
   "source": [
    "It seems to be related to the way the request url is built. If I build the url myself manually, it works just fine."
   ]
  },
  {
   "cell_type": "code",
   "execution_count": 14,
   "metadata": {},
   "outputs": [
    {
     "name": "stdout",
     "output_type": "stream",
     "text": [
      "Cobb, a skilled thief who commits corporate espionage by infiltrating the subconscious of his targets is offered a chance to regain his old life as payment for a task considered to be impossible: \"inception\", the implantation of another person's idea into a target's subconscious.\n"
     ]
    }
   ],
   "source": [
    "from langchain_community.utilities.requests import TextRequestsWrapper\n",
    "\n",
    "# Create a TextRequestsWrapper instance with custom headers\n",
    "headers = {\"Authorization\": f\"Bearer {os.getenv('TMDB_BEARER_TOKEN')}\"}\n",
    "requests_wrapper = TextRequestsWrapper(headers=headers)\n",
    "\n",
    "# Make a GET request and inspect the response\n",
    "response = requests_wrapper.get(f\"https://api.themoviedb.org/3/search/movie?query=Inception&language=en-US&api_key={os.getenv('TMDB_BEARER_TOKEN')}\")\n",
    "\n",
    "# convert string to dict\n",
    "response_dict = json.loads(response)\n",
    "print(response_dict[\"results\"][0][\"overview\"])"
   ]
  },
  {
   "cell_type": "markdown",
   "metadata": {},
   "source": [
    "## Audio Parsers\n",
    "Additional tests to approach the STT and TTS steps, when building a chatbot for our movie advisor.\n",
    "\n",
    "I researched Google SpeechToTextLoader from Langchain's community module. It's working as expected but unfortunately is not an open-source and free solution. You have a quota per project that you can use for free."
   ]
  },
  {
   "cell_type": "code",
   "execution_count": 15,
   "metadata": {},
   "outputs": [
    {
     "name": "stderr",
     "output_type": "stream",
     "text": [
      "Your browser has been opened to visit:\n",
      "\n",
      "    https://accounts.google.com/o/oauth2/auth?response_type=code&client_id=764086051850-6qr4p6gpi6hn506pt8ejuq83di341hur.apps.googleusercontent.com&redirect_uri=http%3A%2F%2Flocalhost%3A8085%2F&scope=openid+https%3A%2F%2Fwww.googleapis.com%2Fauth%2Fuserinfo.email+https%3A%2F%2Fwww.googleapis.com%2Fauth%2Fcloud-platform+https%3A%2F%2Fwww.googleapis.com%2Fauth%2Fsqlservice.login&state=0SCeMTVUdMHvnHSQ1rUAGdnKTeLeoe&access_type=offline&code_challenge=GsqGfOEgvCiFSchDXWpFnWn-_xHGoLN-IPMrFSBB1Hc&code_challenge_method=S256\n",
      "\n",
      "\n",
      "Credentials saved to file: [C:\\Users\\Nath\\AppData\\Roaming\\gcloud\\application_default_credentials.json]\n",
      "\n",
      "These credentials will be used by any library that requests Application Default Credentials (ADC).\n",
      "\n",
      "Quota project \"ai-chitchat\" was added to ADC which can be used by Google client libraries for billing and quota. Note that some services may still bill the project owning the resource.\n"
     ]
    }
   ],
   "source": [
    "!gcloud auth application-default login"
   ]
  },
  {
   "cell_type": "code",
   "execution_count": 21,
   "metadata": {},
   "outputs": [
    {
     "name": "stdout",
     "output_type": "stream",
     "text": [
      "[Document(metadata={'language_code': 'en-US', 'result_end_offset': datetime.timedelta(seconds=3)}, page_content=' What is the height of the eiffel tower?')]\n"
     ]
    }
   ],
   "source": [
    "from langchain_google_community import SpeechToTextLoader\n",
    "\n",
    "project_id = \"ai-chitchat\"\n",
    "file_path = \"audio.wav\"\n",
    "\n",
    "loader = SpeechToTextLoader(project_id=project_id, file_path=file_path)\n",
    "\n",
    "docs = loader.load()\n",
    "print(docs)\n"
   ]
  }
 ],
 "metadata": {
  "kernelspec": {
   "display_name": ".venv",
   "language": "python",
   "name": "python3"
  },
  "language_info": {
   "codemirror_mode": {
    "name": "ipython",
    "version": 3
   },
   "file_extension": ".py",
   "mimetype": "text/x-python",
   "name": "python",
   "nbconvert_exporter": "python",
   "pygments_lexer": "ipython3",
   "version": "3.12.2"
  }
 },
 "nbformat": 4,
 "nbformat_minor": 2
}
