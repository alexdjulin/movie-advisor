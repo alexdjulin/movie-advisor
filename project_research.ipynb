{
 "cells": [
  {
   "cell_type": "markdown",
   "metadata": {},
   "source": [
    "# Movie Advisor\n",
    "*Chat with an AI movie advisor and get recommendations based on your preferences.*\n",
    "\n",
    "[GitHub Repo](https://github.com/alexdjulin/movie-advisor)"
   ]
  },
  {
   "cell_type": "markdown",
   "metadata": {
    "vscode": {
     "languageId": "plaintext"
    }
   },
   "source": [
    "## Brainstorming\n",
    "\n",
    "Goal of this project is to get my hands on langchain and build an AI movie advisor. I want to be able to do the following:\n",
    "- Ask for information about a movie ('I heard The Godfather is good, give me the plot')\n",
    "- Ask for recommendations based on given criterias ('I like adventure movies, especially on the time-travel subject. Could you recommend a few?')\n",
    "- Handle a list of movies I already watched and if I liked them or not, use it to fine-tune recommendations\n",
    "- Handle a must-see and not-interested lists of movies, add to / remove movies from it\n",
    "- Use RAG techniques to access information outside of the LLM knowledge: Search for a recent or less-known movie on the Internet or on a movie database\n",
    "\n",
    "Interactions with the movie advisor should be via keyboard input first, then using speech.\n",
    "\n",
    "The AI part should rely on a LLM. I will use OpenAI Gpt-4o at first, then try implementing open-source models.\n",
    "\n",
    "Source info should come from the LLM first. I will try to pack the imdb dataset in a database for the model to consult, but I guess that it's been trained on it already. Still, it would be interesting to see if the model can add entries to it, for recent or less-known movies it has not heard about yet.\n",
    "\n",
    "Lists should be stored in a database. I will use [Xata](https://app.xata.io/) for this.\n"
   ]
  },
  {
   "cell_type": "markdown",
   "metadata": {},
   "source": [
    "## Install modules"
   ]
  },
  {
   "cell_type": "code",
   "execution_count": 114,
   "metadata": {},
   "outputs": [],
   "source": [
    "! pip install -qU python-dotenv langchain langchain-community langchainhub openai langchain-openai ipykernel kaggle pandas xata requests tiktoken langchain_huggingface sentence-transformers"
   ]
  },
  {
   "cell_type": "markdown",
   "metadata": {},
   "source": [
    "## Imports"
   ]
  },
  {
   "cell_type": "code",
   "execution_count": 14,
   "metadata": {},
   "outputs": [],
   "source": [
    "# misc\n",
    "import os\n",
    "import zipfile\n",
    "import pandas as pd\n",
    "# langchain\n",
    "from langchain_core.output_parsers import StrOutputParser, JsonOutputParser\n",
    "from langchain_core.messages import HumanMessage, AIMessage\n",
    "from langchain_core.prompts import PromptTemplate\n",
    "from langchain_core.tools import tool\n",
    "from langchain import hub\n",
    "from langchain.agents import AgentExecutor, create_tool_calling_agent\n",
    "from langchain.prompts import ChatPromptTemplate\n",
    "from langchain_community.vectorstores.xata import XataVectorStore\n",
    "from langchain_openai import ChatOpenAI, OpenAIEmbeddings\n",
    "from langchain.schema import Document\n",
    "from langchain_core.pydantic_v1 import BaseModel, Field\n",
    "# openai\n",
    "embeddings = OpenAIEmbeddings()\n",
    "# xata client and config\n",
    "from xata.client import XataClient\n",
    "xata = XataClient()\n",
    "# load environment variables\n",
    "import dotenv\n",
    "dotenv.load_dotenv()\n",
    "\n",
    "sep = 100 * \"-\""
   ]
  },
  {
   "cell_type": "markdown",
   "metadata": {},
   "source": [
    "## Dataset review"
   ]
  },
  {
   "cell_type": "markdown",
   "metadata": {},
   "source": [
    "Here are some databases on Kaggle that our LLM could access to or extend:\n",
    "- [IMDB Movies Dataset](https://www.kaggle.com/datasets/harshitshankhdhar/imdb-dataset-of-top-1000-movies-and-tv-shows) - 1000 entries from the IMDB database\n",
    "- [TMDB 5000 Movie Dataset](https://www.kaggle.com/datasets/tmdb/tmdb-movie-metadata) - 5000 entries from the TMDB database ()\n",
    "- [Netflix Movies and TV Shows](https://www.kaggle.com/datasets/shivamb/netflix-shows) - Netflix contents, probably a bit too restrictive"
   ]
  },
  {
   "cell_type": "markdown",
   "metadata": {},
   "source": [
    "Let's have a look at the IMDB one. 1000 entries should be enough to start."
   ]
  },
  {
   "cell_type": "markdown",
   "metadata": {},
   "source": [
    "## Review the IMDB Movie Dataset"
   ]
  },
  {
   "cell_type": "markdown",
   "metadata": {},
   "source": [
    "### Download"
   ]
  },
  {
   "cell_type": "code",
   "execution_count": 5,
   "metadata": {},
   "outputs": [
    {
     "name": "stdout",
     "output_type": "stream",
     "text": [
      "Dataset URL: https://www.kaggle.com/datasets/tmdb/tmdb-movie-metadata\n",
      "License(s): other\n",
      "Downloading tmdb-movie-metadata.zip to c:\\Development\\_repos\\movie-advisor\n",
      "\n"
     ]
    },
    {
     "name": "stderr",
     "output_type": "stream",
     "text": [
      "\n",
      "  0%|          | 0.00/8.89M [00:00<?, ?B/s]\n",
      " 11%|█▏        | 1.00M/8.89M [00:00<00:04, 1.79MB/s]\n",
      " 23%|██▎       | 2.00M/8.89M [00:00<00:02, 3.50MB/s]\n",
      " 45%|████▌     | 4.00M/8.89M [00:00<00:00, 6.24MB/s]\n",
      " 68%|██████▊   | 6.00M/8.89M [00:01<00:00, 7.95MB/s]\n",
      " 90%|█████████ | 8.00M/8.89M [00:01<00:00, 9.10MB/s]\n",
      "100%|██████████| 8.89M/8.89M [00:01<00:00, 7.12MB/s]\n"
     ]
    }
   ],
   "source": [
    "!kaggle datasets download -d tmdb/tmdb-movie-metadata\n",
    "\n",
    "dataset_path = 'dataset'\n",
    "zip_file = 'tmdb-movie-metadata.zip'\n",
    "\n",
    "# unzip dataset\n",
    "with zipfile.ZipFile(zip_file, 'r') as zip_ref:\n",
    "    zip_ref.extractall(dataset_path)\n",
    "\n",
    "os.remove(zip_file)\n",
    "    "
   ]
  },
  {
   "cell_type": "markdown",
   "metadata": {},
   "source": [
    "### Extract data we need\n",
    "The database has extensive informaton. We will only extract the following columns:\n",
    "- title (string)\n",
    "- genres (list)\n",
    "- keywords (list)\n",
    "- overview (string)\n",
    "- vote average (float)\n",
    "- production_countries\n",
    "- release_date (string or datetime)\n",
    "- runtime in minutes (ing)"
   ]
  },
  {
   "cell_type": "code",
   "execution_count": 6,
   "metadata": {},
   "outputs": [
    {
     "name": "stdout",
     "output_type": "stream",
     "text": [
      "['budget', 'genres', 'homepage', 'id', 'keywords', 'original_language', 'original_title', 'overview', 'popularity', 'production_companies', 'production_countries', 'release_date', 'revenue', 'runtime', 'spoken_languages', 'status', 'tagline', 'title', 'vote_average', 'vote_count']\n"
     ]
    }
   ],
   "source": [
    "# load dataset and print columns\n",
    "tmdb_df = pd.read_csv(f'{dataset_path}/tmdb_5000_movies.csv')\n",
    "print(sorted(tmdb_df.columns.tolist()))"
   ]
  },
  {
   "cell_type": "code",
   "execution_count": 9,
   "metadata": {},
   "outputs": [
    {
     "name": "stdout",
     "output_type": "stream",
     "text": [
      "<class 'str'> Avatar\n",
      "\n",
      "<class 'list'> ['Action', 'Adventure', 'Fantasy', 'Science Fiction']\n",
      "\n",
      "<class 'list'> ['culture clash', 'future', 'space war', 'space colony', 'society', 'space travel', 'futuristic', 'romance', 'space', 'alien', 'tribe', 'alien planet', 'cgi', 'marine', 'soldier', 'battle', 'love affair', 'anti war', 'power relations', 'mind and soul', '3d']\n",
      "\n",
      "<class 'str'> In the 22nd century, a paraplegic Marine is dispatched to the moon Pandora on a unique mission, but becomes torn between following orders and protecting an alien civilization.\n",
      "\n",
      "<class 'numpy.float64'> 7.2\n",
      "\n",
      "<class 'list'> ['United States of America', 'United Kingdom']\n",
      "\n",
      "<class 'str'> 2009-12-10\n",
      "\n",
      "<class 'numpy.float64'> 162.0\n",
      "\n"
     ]
    },
    {
     "data": {
      "text/html": [
       "<div>\n",
       "<style scoped>\n",
       "    .dataframe tbody tr th:only-of-type {\n",
       "        vertical-align: middle;\n",
       "    }\n",
       "\n",
       "    .dataframe tbody tr th {\n",
       "        vertical-align: top;\n",
       "    }\n",
       "\n",
       "    .dataframe thead th {\n",
       "        text-align: right;\n",
       "    }\n",
       "</style>\n",
       "<table border=\"1\" class=\"dataframe\">\n",
       "  <thead>\n",
       "    <tr style=\"text-align: right;\">\n",
       "      <th></th>\n",
       "      <th>title</th>\n",
       "      <th>genres</th>\n",
       "      <th>keywords</th>\n",
       "      <th>overview</th>\n",
       "      <th>vote_average</th>\n",
       "      <th>production_countries</th>\n",
       "      <th>release_date</th>\n",
       "      <th>runtime</th>\n",
       "    </tr>\n",
       "  </thead>\n",
       "  <tbody>\n",
       "    <tr>\n",
       "      <th>0</th>\n",
       "      <td>Avatar</td>\n",
       "      <td>[Action, Adventure, Fantasy, Science Fiction]</td>\n",
       "      <td>[culture clash, future, space war, space colon...</td>\n",
       "      <td>In the 22nd century, a paraplegic Marine is di...</td>\n",
       "      <td>7.2</td>\n",
       "      <td>[United States of America, United Kingdom]</td>\n",
       "      <td>2009-12-10</td>\n",
       "      <td>162.0</td>\n",
       "    </tr>\n",
       "    <tr>\n",
       "      <th>1</th>\n",
       "      <td>Pirates of the Caribbean: At World's End</td>\n",
       "      <td>[Adventure, Fantasy, Action]</td>\n",
       "      <td>[ocean, drug abuse, exotic island, east india ...</td>\n",
       "      <td>Captain Barbossa, long believed to be dead, ha...</td>\n",
       "      <td>6.9</td>\n",
       "      <td>[United States of America]</td>\n",
       "      <td>2007-05-19</td>\n",
       "      <td>169.0</td>\n",
       "    </tr>\n",
       "    <tr>\n",
       "      <th>2</th>\n",
       "      <td>Spectre</td>\n",
       "      <td>[Action, Adventure, Crime]</td>\n",
       "      <td>[spy, based on novel, secret agent, sequel, mi...</td>\n",
       "      <td>A cryptic message from Bond’s past sends him o...</td>\n",
       "      <td>6.3</td>\n",
       "      <td>[United Kingdom, United States of America]</td>\n",
       "      <td>2015-10-26</td>\n",
       "      <td>148.0</td>\n",
       "    </tr>\n",
       "    <tr>\n",
       "      <th>3</th>\n",
       "      <td>The Dark Knight Rises</td>\n",
       "      <td>[Action, Crime, Drama, Thriller]</td>\n",
       "      <td>[dc comics, crime fighter, terrorist, secret i...</td>\n",
       "      <td>Following the death of District Attorney Harve...</td>\n",
       "      <td>7.6</td>\n",
       "      <td>[United States of America]</td>\n",
       "      <td>2012-07-16</td>\n",
       "      <td>165.0</td>\n",
       "    </tr>\n",
       "    <tr>\n",
       "      <th>4</th>\n",
       "      <td>John Carter</td>\n",
       "      <td>[Action, Adventure, Science Fiction]</td>\n",
       "      <td>[based on novel, mars, medallion, space travel...</td>\n",
       "      <td>John Carter is a war-weary, former military ca...</td>\n",
       "      <td>6.1</td>\n",
       "      <td>[United States of America]</td>\n",
       "      <td>2012-03-07</td>\n",
       "      <td>132.0</td>\n",
       "    </tr>\n",
       "  </tbody>\n",
       "</table>\n",
       "</div>"
      ],
      "text/plain": [
       "                                      title  \\\n",
       "0                                    Avatar   \n",
       "1  Pirates of the Caribbean: At World's End   \n",
       "2                                   Spectre   \n",
       "3                     The Dark Knight Rises   \n",
       "4                               John Carter   \n",
       "\n",
       "                                          genres  \\\n",
       "0  [Action, Adventure, Fantasy, Science Fiction]   \n",
       "1                   [Adventure, Fantasy, Action]   \n",
       "2                     [Action, Adventure, Crime]   \n",
       "3               [Action, Crime, Drama, Thriller]   \n",
       "4           [Action, Adventure, Science Fiction]   \n",
       "\n",
       "                                            keywords  \\\n",
       "0  [culture clash, future, space war, space colon...   \n",
       "1  [ocean, drug abuse, exotic island, east india ...   \n",
       "2  [spy, based on novel, secret agent, sequel, mi...   \n",
       "3  [dc comics, crime fighter, terrorist, secret i...   \n",
       "4  [based on novel, mars, medallion, space travel...   \n",
       "\n",
       "                                            overview  vote_average  \\\n",
       "0  In the 22nd century, a paraplegic Marine is di...           7.2   \n",
       "1  Captain Barbossa, long believed to be dead, ha...           6.9   \n",
       "2  A cryptic message from Bond’s past sends him o...           6.3   \n",
       "3  Following the death of District Attorney Harve...           7.6   \n",
       "4  John Carter is a war-weary, former military ca...           6.1   \n",
       "\n",
       "                         production_countries release_date  runtime  \n",
       "0  [United States of America, United Kingdom]   2009-12-10    162.0  \n",
       "1                  [United States of America]   2007-05-19    169.0  \n",
       "2  [United Kingdom, United States of America]   2015-10-26    148.0  \n",
       "3                  [United States of America]   2012-07-16    165.0  \n",
       "4                  [United States of America]   2012-03-07    132.0  "
      ]
     },
     "execution_count": 9,
     "metadata": {},
     "output_type": "execute_result"
    }
   ],
   "source": [
    "# filter columns to keep and make a copy of the df\n",
    "columns = [\"title\", \"genres\", \"keywords\", \"overview\", \"vote_average\", \"production_countries\", \"release_date\", \"runtime\"]\n",
    "df = tmdb_df.copy().dropna()\n",
    "df = df[columns]\n",
    "\n",
    "# format columns with multiple values as lists\n",
    "for column in [\"genres\", \"keywords\", \"production_countries\"]:\n",
    "    df[column] = df[column].apply(lambda x: [i['name'] for i in eval(x)])\n",
    "\n",
    "# # format floats to strings\n",
    "# for column in [\"vote_average\", \"runtime\"]:\n",
    "#     df[column] = df[column].astype(str)\n",
    "\n",
    "# make sure all columns are strings\n",
    "for column in columns:\n",
    "    col = df[column][0]\n",
    "    print(type(col), col)\n",
    "    print()\n",
    "\n",
    "df.head()"
   ]
  },
  {
   "cell_type": "markdown",
   "metadata": {},
   "source": [
    "## Create Xata TMDB movies table"
   ]
  },
  {
   "cell_type": "code",
   "execution_count": 10,
   "metadata": {},
   "outputs": [],
   "source": [
    "def create_table(table_name: str, table_schema: dict) -> None:\n",
    "    \"\"\" create table if it doesn't exist \"\"\"\n",
    "    try:\n",
    "        assert xata.table().create(table_name).is_success()\n",
    "    except AssertionError as e:\n",
    "        print(f\"Error creating table '{table_name}': {e}\")\n",
    "    try:\n",
    "        resp = xata.table().set_schema(table_name, table_schema)\n",
    "        assert resp.is_success(), resp\n",
    "    except AssertionError as e:\n",
    "        print(f\"Error setting schema for table '{table_name}': {e}\")"
   ]
  },
  {
   "cell_type": "code",
   "execution_count": 11,
   "metadata": {},
   "outputs": [
    {
     "name": "stdout",
     "output_type": "stream",
     "text": [
      "{'title': 'Avatar', 'genres': ['Action', 'Adventure', 'Fantasy', 'Science Fiction'], 'keywords': ['culture clash', 'future', 'space war', 'space colony', 'society', 'space travel', 'futuristic', 'romance', 'space', 'alien', 'tribe', 'alien planet', 'cgi', 'marine', 'soldier', 'battle', 'love affair', 'anti war', 'power relations', 'mind and soul', '3d'], 'overview': 'In the 22nd century, a paraplegic Marine is dispatched to the moon Pandora on a unique mission, but becomes torn between following orders and protecting an alien civilization.', 'vote_average': 7.2, 'production_countries': ['United States of America', 'United Kingdom'], 'release_date': '2009-12-10', 'runtime': 162.0}\n"
     ]
    },
    {
     "data": {
      "text/plain": [
       "{'id': 'rec_cqd5rbui9lerrvc51hd0',\n",
       " 'xata': {'createdAt': '2024-07-19T12:35:59.644741Z',\n",
       "  'updatedAt': '2024-07-19T12:35:59.644741Z',\n",
       "  'version': 0}}"
      ]
     },
     "execution_count": 11,
     "metadata": {},
     "output_type": "execute_result"
    }
   ],
   "source": [
    "table_name = \"tmdb_movies\"\n",
    "\n",
    "table_schema = {\n",
    "    \"columns\": [\n",
    "        {\"name\": \"title\", \"type\": \"string\"},\n",
    "        {\"name\": \"genres\", \"type\": \"multiple\"},\n",
    "        {\"name\": \"keywords\", \"type\": \"multiple\"},\n",
    "        {\"name\": \"overview\", \"type\": \"string\"},\n",
    "        {\"name\": \"vote_average\", \"type\": \"float\"},\n",
    "        {\"name\": \"production_countries\", \"type\": \"multiple\"},\n",
    "        {\"name\": \"release_date\", \"type\": \"string\"},\n",
    "        {\"name\": \"runtime\", \"type\": \"float\"},\n",
    "    ]\n",
    "}\n",
    "\n",
    "create_table(table_name, table_schema)\n",
    "\n",
    "# insert one entry as a test\n",
    "record = df.iloc[0].to_dict()\n",
    "print(record)\n",
    "\n",
    "xata.records().insert(table_name, record)"
   ]
  },
  {
   "cell_type": "code",
   "execution_count": 12,
   "metadata": {},
   "outputs": [],
   "source": [
    "# check if table exists\n",
    "table_name = \"tmdb_movies\"\n",
    "assert xata.data().query(table_name).is_success()"
   ]
  },
  {
   "cell_type": "markdown",
   "metadata": {},
   "source": [
    "### Fill up table"
   ]
  },
  {
   "cell_type": "code",
   "execution_count": null,
   "metadata": {},
   "outputs": [],
   "source": [
    "# if successful, fill up database\n",
    "table_name = \"tmdb_movies\"\n",
    "\n",
    "# METHOD 1: isert records one by one\n",
    "# records = df.to_dict(orient='records')\n",
    "# for record in records:\n",
    "    # xata.records().insert(table_name, record)\n",
    "\n",
    "# METHOD 2: using bulk insert / faster but 1000 records limit at a time\n",
    "xata.records().bulk_insert(table_name, {\"records\": df.to_dict(orient='records')[:999]})\n",
    "xata.records().bulk_insert(table_name, {\"records\": df.to_dict(orient='records')[1000:]})"
   ]
  },
  {
   "cell_type": "markdown",
   "metadata": {},
   "source": [
    "The dataset is now on xata."
   ]
  },
  {
   "cell_type": "markdown",
   "metadata": {},
   "source": [
    "## Create movie history table\n",
    "Let's now create a second table to store my movie history:\n",
    "- Title (str): movie Title\n",
    "- Status (str): watched, must_see, not_interested\n",
    "- Comment (str): some personal comment about it\n",
    "- Content (str): a short text summing up (title, status, comment) that will be used as embedding\n",
    "- Embedding (vector): an OpenAI embedding vector of the content string\n"
   ]
  },
  {
   "cell_type": "code",
   "execution_count": 18,
   "metadata": {},
   "outputs": [
    {
     "data": {
      "text/plain": [
       "<langchain_community.vectorstores.xata.XataVectorStore at 0x18d79b30770>"
      ]
     },
     "execution_count": 18,
     "metadata": {},
     "output_type": "execute_result"
    }
   ],
   "source": [
    "table_name = \"movie_history\"\n",
    "table_schema = {\n",
    "    \"columns\": [\n",
    "        {\"name\": \"title\", \"type\": \"text\"},\n",
    "        {\"name\": \"status\", \"type\": \"text\"},\n",
    "        {\"name\": \"comment\", \"type\": \"text\"},\n",
    "        {\"name\": \"content\", \"type\": \"text\"},\n",
    "        {\"name\": \"embedding\", \"type\": \"vector\", \"vector\": {\"dimension\": 1536}}\n",
    "    ]\n",
    "}\n",
    "\n",
    "# create table\n",
    "# create_table(table_name, table_schema)\n",
    "\n",
    "# create table vectorstore\n",
    "table_name = \"movie_history\"\n",
    "vector_store = XataVectorStore(\n",
    "    embedding=embeddings,\n",
    "    api_key=os.getenv(\"XATA_API_KEY\"),\n",
    "    db_url=os.getenv(\"XATA_DATABASE_URL\"),\n",
    "    table_name=table_name\n",
    ")\n",
    "\n",
    "vector_store\n"
   ]
  },
  {
   "cell_type": "markdown",
   "metadata": {},
   "source": [
    "### Query table records"
   ]
  },
  {
   "cell_type": "code",
   "execution_count": 45,
   "metadata": {},
   "outputs": [
    {
     "name": "stdout",
     "output_type": "stream",
     "text": [
      "id:  rec_cqd614qm85ansdaq79c0\n",
      "Title:  Inception\n",
      "Status:  watched\n",
      "Comment:  This is one of my favourite movie, especially how it handles time paradox!\n",
      "Content:  Inception (watched) one of my favourite movie, liked the time paradox\n",
      "----------------------------------------------------------------------------------------------------\n",
      "id:  rec_cqd614qm85ansdaq79cg\n",
      "Title:  Jurassik Park\n",
      "Status:  watched\n",
      "Comment:  A true masterpiece. This is probably the best movie of all times, I could watch it forever and never get bored\n",
      "Content:  Jurassik Park (watched) best movie of all times, masterpiece, never get bored\n",
      "----------------------------------------------------------------------------------------------------\n",
      "id:  rec_cqd6152m85ansdaq79d0\n",
      "Title:  Once Upon a Time in America\n",
      "Status:  must_see\n",
      "Comment:  I have been willing to watch it for a long time, but it's a long movie and I never found the time to watch it\n",
      "Content:  Once Upon a Time in America (must_see) Very long, never found the time to watch it\n",
      "----------------------------------------------------------------------------------------------------\n",
      "id:  rec_cqd615am85ansdaq79dg\n",
      "Title:  The Exorcist\n",
      "Status:  not_interested\n",
      "Comment:  I don't like horror movies and I heard this one is pretty rough, I prefer not to watch it\n",
      "Content:  The Exorcist (not on watch_list) I dont like horror movies\n",
      "----------------------------------------------------------------------------------------------------\n",
      "id:  rec_cqd63fam85ansdaq79rg\n",
      "Title:  West Side Story\n",
      "Status:  watched\n",
      "Comment:  I finally watched it last night, it was amazing, thrilling music\n",
      "Content:  West Side Story (watched) amazing, thrilling music\n",
      "----------------------------------------------------------------------------------------------------\n"
     ]
    }
   ],
   "source": [
    "# query the content of movie_history\n",
    "table_name = \"movie_history\"\n",
    "\n",
    "def get_table_records(table_name: str) -> list:\n",
    "    records = xata.data().query(table_name)[\"records\"]\n",
    "    return records\n",
    "\n",
    "records = get_table_records(table_name)\n",
    "\n",
    "if not records:\n",
    "    print(\"No records found\")\n",
    "else:    \n",
    "    for rec in records:\n",
    "        print(\"id: \", rec[\"id\"])\n",
    "        print(\"Title: \", rec[\"title\"])\n",
    "        print(\"Status: \", rec[\"status\"])\n",
    "        print(\"Comment: \", rec[\"comment\"])\n",
    "        print(\"Content: \", rec[\"content\"])\n",
    "        print(sep)\n",
    "\n"
   ]
  },
  {
   "cell_type": "markdown",
   "metadata": {},
   "source": [
    "### Fill up table with some test records"
   ]
  },
  {
   "cell_type": "code",
   "execution_count": 44,
   "metadata": {},
   "outputs": [],
   "source": [
    "def add_update_movie(movie_record: dict) -> None:\n",
    "\n",
    "    table_records = get_table_records(table_name)\n",
    "\n",
    "    # delete record if it exists\n",
    "    for rec in table_records:\n",
    "        if rec[\"title\"] == movie_record[\"title\"]:\n",
    "            xata.records().delete(table_name, rec[\"id\"])\n",
    "            break\n",
    "\n",
    "    # add updated record\n",
    "    doc = Document(page_content=movie_record[\"content\"], metadata={k: v for k, v in movie_record.items() if k != \"content\"})\n",
    "    vector_store.add_documents([doc])"
   ]
  },
  {
   "cell_type": "code",
   "execution_count": 25,
   "metadata": {},
   "outputs": [],
   "source": [
    "rec_1 = {\n",
    "    \"title\": \"Inception\",\n",
    "    \"status\": \"watched\",\n",
    "    \"comment\": \"This is one of my favourite movie, especially how it handles time paradox!\",\n",
    "    \"content\": \"Inception (watched) one of my favourite movie, liked the time paradox\"\n",
    "}\n",
    "\n",
    "rec_2 = {\n",
    "    \"title\": \"Jurassic Park\",\n",
    "    \"status\": \"watched\",\n",
    "    \"comment\": \"A true masterpiece. This is probably the best movie of all times, I could watch it forever and never get bored\",\n",
    "    \"content\": \"Jurassik Park (watched) best movie of all times, masterpiece, never get bored\"\n",
    "}\n",
    "\n",
    "rec_3 = {\n",
    "    \"title\": \"West Side Story\",\n",
    "    \"status\": \"must_see\",\n",
    "    \"comment\": \"I heard it's a very good movie and the music is amazing. I can't wait to watch it\",\n",
    "    \"content\": \"West Side Story (must_see) music amazing, can't wait to watch it\"\n",
    "}\n",
    "\n",
    "rec_4 = {\n",
    "    \"title\": \"Once Upon a Time in America\",\n",
    "    \"status\": \"must_see\",\n",
    "    \"comment\": \"I have been willing to watch it for a long time, but it's a long movie and I never found the time to watch it\",\n",
    "    \"content\": \"Once Upon a Time in America (must_see) Very long, never found the time to watch it\"\n",
    "}\n",
    "\n",
    "rec_5 = {\n",
    "    \"title\": \"The Exorcist\",\n",
    "    \"status\": \"not_interested\",\n",
    "    \"comment\": \"I don't like horror movies and I heard this one is pretty rough, I prefer not to watch it\",\n",
    "    \"content\": \"The Exorcist (not on watch_list) I dont like horror movies\"\n",
    "}\n",
    "\n",
    "for rec in [rec_1, rec_2, rec_3, rec_4, rec_5]:\n",
    "    add_update_movie(rec)\n"
   ]
  },
  {
   "cell_type": "markdown",
   "metadata": {},
   "source": [
    "### Add a new record or update an existing one in the table"
   ]
  },
  {
   "cell_type": "code",
   "execution_count": 38,
   "metadata": {},
   "outputs": [],
   "source": [
    "table_name = \"movie_history\"\n",
    "\n",
    "rec_6 = {\n",
    "    \"title\": \"eXistenZ\",\n",
    "    \"status\": \"watched\",\n",
    "    \"comment\": \"I didnt like it, I found it very confusing and the story was sometimes disturbing\",\n",
    "    \"content\": \"eXistenZ (watched) Didnt like it, confusing, disturbing\"\n",
    "}\n",
    "\n",
    "rec_7 = {\n",
    "    \"title\": \"West Side Story\",\n",
    "    \"status\": \"watched\",\n",
    "    \"comment\": \"I finally watched it last night, it was amazing, thrilling music\",\n",
    "    \"content\": \"West Side Story (watched) amazing, thrilling music\"\n",
    "}\n",
    "\n",
    "for rec in [rec_6, rec_7]:\n",
    "    add_update_movie(rec)\n"
   ]
  },
  {
   "cell_type": "markdown",
   "metadata": {},
   "source": [
    "### Delete a record from the table"
   ]
  },
  {
   "cell_type": "code",
   "execution_count": 47,
   "metadata": {},
   "outputs": [
    {
     "name": "stdout",
     "output_type": "stream",
     "text": [
      "Record 'Inception' deleted successfully\n"
     ]
    }
   ],
   "source": [
    "table_name = \"movie_history\"\n",
    "\n",
    "def delete_movie_from_table(title: str) -> None:\n",
    "    records = get_table_records(table_name)\n",
    "    for rec in records:\n",
    "        if rec[\"title\"] == title:\n",
    "            xata.records().delete(table_name, rec[\"id\"])\n",
    "            print(f\"Record '{title}' deleted successfully\")\n",
    "            return\n",
    "    print(f\"Record '{title}' not found\")\n",
    "\n",
    "delete_movie_from_table(\"Inception\")"
   ]
  },
  {
   "cell_type": "code",
   "execution_count": 48,
   "metadata": {},
   "outputs": [
    {
     "name": "stdout",
     "output_type": "stream",
     "text": [
      "{'watched': ['Jurassik Park', 'West Side Story'], 'must_see': ['Once Upon a Time in America'], 'not_interested': ['The Exorcist']}\n"
     ]
    }
   ],
   "source": [
    "def get_watch_lists(table_name: str) -> dict:\n",
    "    \"\"\"\n",
    "    Return the list of watched, not watched and blacklists movies in a dict\n",
    "    \"\"\"\n",
    "    \n",
    "    records = get_table_records(table_name)\n",
    "\n",
    "    watched = [rec['title'] for rec in records if rec[\"status\"] == \"watched\"]\n",
    "    must_see = [rec['title'] for rec in records if rec[\"status\"] == \"must_see\"]\n",
    "    not_interested = [rec['title'] for rec in records if rec[\"status\"] == \"not_interested\"]\n",
    "\n",
    "    return {\"watched\": watched, \"must_see\": must_see, \"not_interested\": not_interested}\n",
    "\n",
    "table_name = \"movie_history\"\n",
    "watch_dict = get_watch_lists(table_name)\n",
    "print(watch_dict)"
   ]
  },
  {
   "cell_type": "markdown",
   "metadata": {},
   "source": [
    "### Similarity Search test\n",
    "Let's see if we can extract information from our history"
   ]
  },
  {
   "cell_type": "code",
   "execution_count": 50,
   "metadata": {},
   "outputs": [
    {
     "name": "stdout",
     "output_type": "stream",
     "text": [
      "The Exorcist (not on watch_list) I dont like horror movies\n",
      "Jurassik Park (watched) best movie of all times, masterpiece, never get bored\n"
     ]
    }
   ],
   "source": [
    "query = \"What movies am I most affraid of?\"\n",
    "found_docs = vector_store.similarity_search(query, k=1)\n",
    "print(found_docs[0].page_content)\n",
    "\n",
    "query = \"What is my favourite movie of all times?\"\n",
    "found_docs = vector_store.similarity_search(query, k=1)\n",
    "print(found_docs[0].page_content)"
   ]
  },
  {
   "cell_type": "markdown",
   "metadata": {},
   "source": [
    "## Build our LLM structure"
   ]
  },
  {
   "cell_type": "markdown",
   "metadata": {},
   "source": [
    "### Prompt"
   ]
  },
  {
   "cell_type": "code",
   "execution_count": 9,
   "metadata": {},
   "outputs": [
    {
     "name": "stdout",
     "output_type": "stream",
     "text": [
      "input_variables=['blacklist', 'preferences', 'question', 'watched', 'watchlist'] messages=[HumanMessagePromptTemplate(prompt=PromptTemplate(input_variables=['blacklist', 'preferences', 'question', 'watched', 'watchlist'], template=\"You are a movie advisor offering me recommendations based on my preferences and watch history from these 3 lists:\\n- Watched: Movies I have already seen: {watched}.\\n- Watchlist: Movies I haven't seen yet but I want to: {watchlist}.\\n- Blacklist: Movies I haven't seen yet but I don't want to: {blacklist}.\\nOnly recommend one movie at a time.\\nMy preferences related to the question to orient your answer: {preferences}.\\nQuestion: {question}.\\n\"))]\n"
     ]
    }
   ],
   "source": [
    "template = \"\"\"You are a movie advisor offering me recommendations based on my preferences and watch history from these 3 lists:\n",
    "- Watched: Movies I have already seen: {watched}.\n",
    "- Watchlist: Movies I haven't seen yet but I want to: {watchlist}.\n",
    "- Blacklist: Movies I haven't seen yet but I don't want to: {blacklist}.\n",
    "Only recommend one movie at a time.\n",
    "My preferences related to the question to orient your answer: {preferences}.\n",
    "Question: {question}.\n",
    "\"\"\"\n",
    "\n",
    "prompt = ChatPromptTemplate.from_template(template)\n",
    "print(prompt)\n"
   ]
  },
  {
   "cell_type": "markdown",
   "metadata": {},
   "source": [
    "### Similarity Retriever"
   ]
  },
  {
   "cell_type": "code",
   "execution_count": 10,
   "metadata": {},
   "outputs": [
    {
     "name": "stdout",
     "output_type": "stream",
     "text": [
      "The Exorcist (not on watch_list) I dont like horror movies, prefer not to watch it\n"
     ]
    }
   ],
   "source": [
    "retriever = vector_store.as_retriever(search_type=\"similarity\", search_kwargs={\"k\": 1})\n",
    "results = retriever.invoke(\"I'm affraid of horror movies\")\n",
    "print(results[0].page_content)"
   ]
  },
  {
   "cell_type": "markdown",
   "metadata": {},
   "source": [
    "### LLM Model"
   ]
  },
  {
   "cell_type": "code",
   "execution_count": 22,
   "metadata": {},
   "outputs": [],
   "source": [
    "llm_gpt4 = ChatOpenAI(model='gpt-4o-mini')"
   ]
  },
  {
   "cell_type": "markdown",
   "metadata": {},
   "source": [
    "### String output parser\n",
    "Create a string output parser for general chatting with the advisor about movies"
   ]
  },
  {
   "cell_type": "code",
   "execution_count": 23,
   "metadata": {},
   "outputs": [],
   "source": [
    "str_output_parser = StrOutputParser()"
   ]
  },
  {
   "cell_type": "code",
   "execution_count": 14,
   "metadata": {},
   "outputs": [
    {
     "name": "stdout",
     "output_type": "stream",
     "text": [
      "It depends on what genre you're in the mood for! Here are a few suggestions:\n",
      "\n",
      "- **Action/Adventure**: *Mad Max: Fury Road* - A visually stunning, high-octane ride through a post-apocalyptic world.\n",
      "- **Comedy**: *Superbad* - A coming-of-age teen comedy that’s both hilarious and relatable.\n",
      "- **Drama**: *The Shawshank Redemption* - A powerful story about hope and friendship set in a prison.\n",
      "- **Horror**: *Get Out* - A thought-provoking thriller that combines social commentary with suspense.\n",
      "- **Romance**: *La La Land* - A modern musical that explores love and ambition in Los Angeles.\n",
      "\n",
      "Let me know if you want more specific recommendations or if you have a particular genre in mind!\n"
     ]
    }
   ],
   "source": [
    "# test string parser\n",
    "test_prompt = PromptTemplate(\n",
    "    template=\"Answer the user query.\\n{format_instructions}\\n{query}\\n\",\n",
    "    input_variables=[\"query\"],\n",
    "    partial_variables={\"format_instructions\": \"String\"},\n",
    ")\n",
    "\n",
    "str_chain = test_prompt | llm_gpt4 | str_output_parser\n",
    "response = str_chain.invoke({\"query\": \"What movie should I watch tonight?\"})\n",
    "print(response)"
   ]
  },
  {
   "cell_type": "markdown",
   "metadata": {},
   "source": [
    "### JSON Output Parser\n",
    "Create a json output parser to update the database\n",
    "[Documentation](https://python.langchain.com/v0.1/docs/modules/model_io/output_parsers/types/json/)"
   ]
  },
  {
   "cell_type": "code",
   "execution_count": 15,
   "metadata": {},
   "outputs": [
    {
     "name": "stdout",
     "output_type": "stream",
     "text": [
      "pydantic_object=<class '__main__.Recommendation'>\n"
     ]
    }
   ],
   "source": [
    "model = ChatOpenAI(temperature=0)\n",
    "\n",
    "# define desired data structure\n",
    "class Recommendation(BaseModel):\n",
    "    title: str = Field(description=\"The movie title you recommend\")\n",
    "    comment: str = Field(description=\"My personal opinion about the movie\")\n",
    "    watched: bool = Field(description=\"True to add it to the list of watched movies, else False\")\n",
    "    watchlist: bool = Field(description=\"True to add it to the list of movies I would like to watch, else False\")\n",
    "    blacklist: bool = Field(description=\"True to add it to the list of movies I don't want to watch, else False\")\n",
    "    embedding: bool = Field(description=\"A short text that describes my answer as follow: {movie_title} ({watched/watchlist/blacklist}) {personal_opinion}. It will be stored as an embedding vector in the database\")\n",
    "\n",
    "json_output_parser = JsonOutputParser(pydantic_object=Recommendation)\n",
    "print(json_output_parser)"
   ]
  },
  {
   "cell_type": "code",
   "execution_count": 16,
   "metadata": {},
   "outputs": [
    {
     "data": {
      "text/plain": [
       "{'title': 'Inception',\n",
       " 'comment': \"One of the best mind-bending movies I've ever seen\",\n",
       " 'watched': False,\n",
       " 'watchlist': True,\n",
       " 'blacklist': False,\n",
       " 'embedding': \"Inception (watchlist) One of the best mind-bending movies I've ever seen\"}"
      ]
     },
     "execution_count": 16,
     "metadata": {},
     "output_type": "execute_result"
    }
   ],
   "source": [
    "# test json parser\n",
    "test_prompt = PromptTemplate(\n",
    "    template=\"Answer the user query.\\n{format_instructions}\\n{query}\\n\",\n",
    "    input_variables=[\"query\"],\n",
    "    partial_variables={\"format_instructions\": json_output_parser.get_format_instructions()},\n",
    ")\n",
    "\n",
    "json_chain = test_prompt | model | json_output_parser\n",
    "json_chain.invoke({\"query\": \"What movie should I watch tonight?\"})"
   ]
  },
  {
   "cell_type": "markdown",
   "metadata": {},
   "source": [
    "### Build chain"
   ]
  },
  {
   "cell_type": "code",
   "execution_count": null,
   "metadata": {},
   "outputs": [],
   "source": [
    "# define input\n",
    "table_name = \"movie_history\"\n",
    "history = get_movie_history(table_name)\n",
    "\n",
    "watched = (lambda x: history[\"watched\"])\n",
    "watchlist = (lambda x: history[\"watchlist\"])\n",
    "blacklist = (lambda x: history[\"blacklist\"])\n",
    "\n",
    "preferences = (lambda x: x[\"question\"]) | retriever\n",
    "\n",
    "question = (lambda x: x[\"question\"])\n",
    "\n",
    "input_var = {\"watched\": watched, \"watchlist\": watchlist, \"blacklist\": blacklist, \"preferences\": preferences, \"question\": question}\n",
    "\n",
    "# define chain\n",
    "chain = (input_var | prompt | llm_gpt4 | str_output_parser)\n",
    "\n",
    "# invoke answer\n",
    "answer = chain.invoke({\"question\": \"Could you recommand a good horror movie?\"})\n",
    "print(answer)"
   ]
  },
  {
   "cell_type": "markdown",
   "metadata": {},
   "source": [
    "### Build Tools\n",
    "Let's build tool methods that our model can use to add or remove a movie from a list."
   ]
  },
  {
   "cell_type": "code",
   "execution_count": null,
   "metadata": {},
   "outputs": [],
   "source": [
    "def remove_title_from_all_lists(title):\n",
    "    \"\"\"Make sure a title is in none of the lists\"\"\"\n",
    "    global watch_dict\n",
    "    for titles in watch_dict.values():\n",
    "        if title in titles:\n",
    "            titles.remove(title)\n",
    "\n",
    "@tool\n",
    "def add_title_to_list_of_movies_I_have_already_watched(title: str) -> None:\n",
    "    \"\"\"Add a movie title to the list of movies I have already watched in the past\"\"\"\n",
    "    global watch_dict\n",
    "    if title not in watch_dict[\"watched\"]:\n",
    "        remove_title_from_all_lists(title)\n",
    "        watch_dict[\"watched\"].append(title)\n",
    "\n",
    "@tool\n",
    "def add_title_to_list_of_movies_I_want_to_watch_later(title: str) -> None:\n",
    "    \"\"\"Add a movie title to the list of movies I want to watch later\"\"\"\n",
    "    global watch_dict\n",
    "    if title not in watch_dict[\"must_see\"]:\n",
    "        remove_title_from_all_lists(title)\n",
    "        watch_dict[\"must_see\"].append(title)\n",
    "\n",
    "@tool\n",
    "def add_title_to_list_of_movies_I_never_want_to_watch(title: str) -> None:\n",
    "    \"\"\"Add a movie title to the list of movies I never want to watch\"\"\"\n",
    "    global watch_dict\n",
    "    if title not in watch_dict[\"not_interested\"]:\n",
    "        remove_title_from_all_lists(title)\n",
    "        watch_dict[\"not_interested\"].append(title)\n",
    "\n",
    "@tool\n",
    "def remove_title_from_list_of_movies_I_have_already_watched(title: str) -> None:\n",
    "    \"\"\"Remove a movie title from the list of movies I have already watched\"\"\"\n",
    "    global watch_dict\n",
    "    if title in watch_dict[\"watched\"]:\n",
    "        watch_dict[\"watched\"].remove(title)\n",
    "\n",
    "@tool\n",
    "def remove_title_from_list_of_movies_I_want_to_watch_later(title: str) -> None:\n",
    "    \"\"\"Remove a movie title from the list of movies I want to see\"\"\"\n",
    "    global watch_dict\n",
    "    if title in watch_dict[\"must_see\"]:\n",
    "        watch_dict[\"must_see\"].remove(title)\n",
    "\n",
    "@tool\n",
    "def add_title_from_list_of_movies_I_never_want_to_watch(title: str) -> None:\n",
    "    \"\"\"Remove a movie title from the list of movies I'm not interested in\"\"\"\n",
    "    global watch_dict\n",
    "    if title in watch_dict[\"not_interested\"]:\n",
    "        watch_dict[\"not_interested\"].remove(title)\n",
    "\n",
    "\n",
    "# List of tools\n",
    "tools = [\n",
    "    add_title_to_list_of_movies_I_have_already_watched,\n",
    "    add_title_to_list_of_movies_I_want_to_watch_later,\n",
    "    add_title_to_list_of_movies_I_never_want_to_watch,\n",
    "    remove_title_from_list_of_movies_I_have_already_watched,\n",
    "    remove_title_from_list_of_movies_I_want_to_watch_later,\n",
    "    add_title_from_list_of_movies_I_never_want_to_watch\n",
    "]\n",
    "\n",
    "# link our model to the tools\n",
    "gpt4_with_tools = llm_gpt4.bind_tools(tools) \n"
   ]
  },
  {
   "cell_type": "markdown",
   "metadata": {},
   "source": [
    "### Create Agent"
   ]
  },
  {
   "cell_type": "markdown",
   "metadata": {},
   "source": [
    "Let's now create an agent that will use the tools to update our lists."
   ]
  },
  {
   "cell_type": "code",
   "execution_count": 126,
   "metadata": {},
   "outputs": [
    {
     "name": "stdout",
     "output_type": "stream",
     "text": [
      "input_variables=['agent_scratchpad', 'input'] optional_variables=['chat_history'] input_types={'chat_history': typing.List[typing.Union[langchain_core.messages.ai.AIMessage, langchain_core.messages.human.HumanMessage, langchain_core.messages.chat.ChatMessage, langchain_core.messages.system.SystemMessage, langchain_core.messages.function.FunctionMessage, langchain_core.messages.tool.ToolMessage]], 'agent_scratchpad': typing.List[typing.Union[langchain_core.messages.ai.AIMessage, langchain_core.messages.human.HumanMessage, langchain_core.messages.chat.ChatMessage, langchain_core.messages.system.SystemMessage, langchain_core.messages.function.FunctionMessage, langchain_core.messages.tool.ToolMessage]]} partial_variables={'chat_history': []} metadata={'lc_hub_owner': 'hwchase17', 'lc_hub_repo': 'openai-tools-agent', 'lc_hub_commit_hash': 'c18672812789a3b9697656dd539edf0120285dcae36396d0b548ae42a4ed66f5'} messages=[SystemMessagePromptTemplate(prompt=PromptTemplate(input_variables=[], template='You are a helpful assistant')), MessagesPlaceholder(variable_name='chat_history', optional=True), HumanMessagePromptTemplate(prompt=PromptTemplate(input_variables=['input'], template='{input}')), MessagesPlaceholder(variable_name='agent_scratchpad')]\n",
      "{'watched': [], 'must_see': [], 'not_interested': []}\n",
      "{'input': \"Could you please add the movie 'The Matrix' to my watched list?\", 'output': 'I\\'ve added \"The Matrix\" to your watched list.'}\n",
      "{'watched': ['The Matrix'], 'must_see': [], 'not_interested': []}\n"
     ]
    }
   ],
   "source": [
    "# import premade prompt\n",
    "prompt = hub.pull(\"hwchase17/openai-tools-agent\")\n",
    "print(prompt)\n",
    "\n",
    "agent = create_tool_calling_agent(llm_gpt4, tools, prompt)\n",
    "\n",
    "agent_executor = AgentExecutor(agent=agent, tools=tools, verbose=False)\n",
    "\n",
    "watch_dict = {\"watched\": [], \"must_see\": [], \"not_interested\": []}\n",
    "print(watch_dict)\n",
    "\n",
    "result = agent_executor.invoke(\n",
    "    {\n",
    "        \"input\": \"Could you please add the movie 'The Matrix' to my watched list?\"\n",
    "    }\n",
    ")\n",
    "\n",
    "print(result)\n",
    "print(watch_dict)"
   ]
  },
  {
   "cell_type": "code",
   "execution_count": null,
   "metadata": {},
   "outputs": [],
   "source": [
    "# test it in a while loop\n",
    "watch_dict = {\"watched\": [], \"must_see\": [], \"not_interested\": []}\n",
    "\n",
    "while True:\n",
    "\n",
    "    print(\"WATCH STATUS:\", watch_dict)\n",
    "    \n",
    "    input_text = input(\"Alex:\")\n",
    "    if not input_text:\n",
    "        break\n",
    "\n",
    "    result = agent_executor.invoke({\"input\": input_text})\n",
    "    print(\"Agent:\", result)"
   ]
  },
  {
   "cell_type": "markdown",
   "metadata": {},
   "source": [
    "## Query the TMDB database\n",
    "Let's use langchain tool to query the TMDB database for a movie that our LLM would potentially not know about.  \n",
    "\n",
    "We can see below that gpt-4o has not heard about the latest marvel movie 'Deadpool & Wolverine', while it is already in the TMDB database [here](https://www.themoviedb.org/movie/533535-deadpool-wolverine)."
   ]
  },
  {
   "cell_type": "code",
   "execution_count": 30,
   "metadata": {},
   "outputs": [
    {
     "name": "stdout",
     "output_type": "stream",
     "text": [
      "As of my last update in October 2023, \"Deadpool & Wolverine\" is not an officially released movie, but it is often speculated about due to the popularity of both characters in the Marvel universe. However, there is an anticipated film titled \"Deadpool 3,\" which is expected to feature both Deadpool (played by Ryan Reynolds) and Wolverine (played by Hugh Jackman).\n",
      "\n",
      "In the context of the expected plot, it is likely to involve Deadpool's irreverent humor and fourth-wall-breaking antics as he teams up (or clashes) with Wolverine, known for his more serious demeanor. The storyline may include elements of action, comedy, and possibly a multiverse theme, considering Deadpool's unpredictable nature and Wolverine's history with various X-Men storylines.\n",
      "\n",
      "If you're looking for the latest updates or specific plot details for a movie that might have been released or announced after October 2023, I recommend checking the latest entertainment news or official movie databases.\n"
     ]
    }
   ],
   "source": [
    "# Let's find a movie that gpt4o does not know about\n",
    "test_prompt = PromptTemplate(\n",
    "    template=\"You are a movie advisor, you answer questions about movies.\\n{format_instructions}\\n{query}\\n\",\n",
    "    input_variables=[\"query\"],\n",
    "    partial_variables={\"format_instructions\": \"String\"},\n",
    ")\n",
    "\n",
    "str_chain = test_prompt | llm_gpt4 | str_output_parser\n",
    "response = str_chain.invoke({\"query\": \"Give me the plot of the movie 'Deadpool & Wolverine'?\"})\n",
    "print(response)"
   ]
  },
  {
   "cell_type": "markdown",
   "metadata": {},
   "source": [
    "Now let's create an agent with access to the tmdb-api tool, so gpt4o can do api calls to the TMDB database when needed.\n",
    "\n",
    "You will need a TMDB account with an API-key for this.  \n",
    "\n",
    "[TMDP API Documentation](https://developer.themoviedb.org/docs/getting-started)"
   ]
  },
  {
   "cell_type": "markdown",
   "metadata": {},
   "source": [
    "### Let's check if api key is working"
   ]
  },
  {
   "cell_type": "code",
   "execution_count": 2,
   "metadata": {},
   "outputs": [
    {
     "name": "stdout",
     "output_type": "stream",
     "text": [
      "Title: Inception, Release Date: 2010-07-15, Overview: Cobb, a skilled thief who commits corporate espionage by infiltrating the subconscious of his targets is offered a chance to regain his old life as payment for a task considered to be impossible: \"inception\", the implantation of another person's idea into a target's subconscious.\n",
      "Title: The Crack: Inception, Release Date: 2019-10-04, Overview: Madrid, Spain, 1975; shortly after the end of the Franco dictatorship. Six months after the mysterious death of his lover, a prestigious tailor, a married woman visits the office of the young Germán Areta, a former police officer turned private detective, to request his professional services.\n",
      "Title: Inception: The Cobol Job, Release Date: 2010-12-07, Overview: This \"Inception\" prequel unfolds courtesy of a beautiful Motion Comic, and explains how Cobb, Arthur and Nash were enlisted by Cobol Engineering.\n",
      "Title: The Inception of Dramatic Representation, Release Date: , Overview: On certain Adavus: the basic steps in Bharatanatyam. The first part covers Tatta Adavu, Natta Adavu, Visharu Adavu , Tatti Metti Adavu and Teermanam Adavu.\n",
      "Title: Bikini Inception, Release Date: 2015-05-19, Overview: Two flunky Janitors in an Arctic Lab perform unauthorized experiments transporting them to a beach dream world in Malibu California w/50 beautiful young girls and a female Brazilian PhD Student wearing only a bra and panties. A '67 Muscle car races chases horses guns fights surfing, sumo wrestler, wolf monster, underwater scenes tons of gorgeous models. Sexy sci-fi fun.\n",
      "Title: Inception: Music from the Motion Picture, Release Date: 2010-12-07, Overview: The Special Features Blu-ray disc contains a lossless DTS-HD MA 5.1 surround mix of the Inception soundtrack.\n",
      "Title: WWA The Inception, Release Date: 2001-10-26, Overview: The first World Wrestling Allstars pay per view, live from Sydney, Australia! A tournament titled \"7 Deadly Sins\", each round having a stipulation match, the winner will be crowned the first ever WWA Heavyweight Champion! Wrestlers such as Jeff Jarrett, Road Dogg, Jerry Lawler all compete in the tournament, with the WWA Commissioner, Bret Hart not too far away to make sure nothing gets to far out of hand!\n"
     ]
    }
   ],
   "source": [
    "import requests\n",
    "\n",
    "def search_movie(api_key, query):\n",
    "    # Base URL for the search endpoint\n",
    "    url = \"https://api.themoviedb.org/3/search/movie\"\n",
    "    \n",
    "    # Parameters for the API request\n",
    "    params = {\n",
    "        'api_key': api_key,\n",
    "        'query': query\n",
    "    }\n",
    "    \n",
    "    # Making the GET request to the API\n",
    "    response = requests.get(url, params=params)\n",
    "\n",
    "    # Checking if the request was successful\n",
    "    if response.status_code == 200:\n",
    "        # Parsing the JSON response\n",
    "        data = response.json()\n",
    "        return data['results']\n",
    "    else:\n",
    "        # If the request failed, print the status code\n",
    "        print(f\"Error: {response.status_code}\")\n",
    "        return None\n",
    "\n",
    "# Example usage\n",
    "api_key = os.getenv(\"TMDB_BEARER_TOKEN\")\n",
    "query = \"Inception\"\n",
    "\n",
    "results = search_movie(api_key, query)\n",
    "\n",
    "if results:\n",
    "    for movie in results:\n",
    "        print(f\"Title: {movie['title']}, Release Date: {movie['release_date']}, Overview: {movie['overview']}\")\n",
    "else:\n",
    "    print(\"No results found.\")\n"
   ]
  },
  {
   "cell_type": "markdown",
   "metadata": {},
   "source": [
    "### Using Langchain tmdb-api tool\n",
    "So far I could not get this tool to work. It seems that it's not adding my api-key to the request url and I get an error."
   ]
  },
  {
   "cell_type": "code",
   "execution_count": null,
   "metadata": {},
   "outputs": [],
   "source": [
    "import os\n",
    "from langchain.agents import AgentExecutor, create_tool_calling_agent, load_tools\n",
    "from langchain.prompts import ChatPromptTemplate\n",
    "from langchain_openai import ChatOpenAI\n",
    "\n",
    "# load api-keys from environment variables or specify them below\n",
    "openai_api_key = os.getenv(\"OPENAI_API_KEY\")\n",
    "tmdb_bearer_token = os.getenv(\"TMDB_BEARER_TOKEN\")\n",
    "\n",
    "# define the language model\n",
    "llm = ChatOpenAI(model='gpt-4o', api_key=openai_api_key)\n",
    "\n",
    "# load the tmdb-api tool\n",
    "tools = load_tools([\"tmdb-api\"], llm=llm, tmdb_bearer_token=tmdb_bearer_token)\n",
    "\n",
    "# define the prompt\n",
    "prompt = ChatPromptTemplate.from_messages(\n",
    "    [\n",
    "        (\"system\", \"You are a movie advisor, you answer questions about movies.\"),\n",
    "        (\"system\", \"If you don't know an answer, invoke the TMDB-API with a question in natural language.\"),\n",
    "        (\"human\", \"{query}\"),\n",
    "        (\"placeholder\", \"{agent_scratchpad}\"),\n",
    "    ]\n",
    ")\n",
    "\n",
    "# create the agent\n",
    "agent = create_tool_calling_agent(llm, tools, prompt)\n",
    "agent_executor = AgentExecutor(agent=agent, tools=tools, verbose=True)\n",
    "\n",
    "# test the agent\n",
    "result = agent_executor.invoke(\n",
    "    {\n",
    "        \"query\": \"Give me the plot of movie 'Inception'?\",\n",
    "    }\n",
    ")\n",
    "\n",
    "# print the result\n",
    "print(\"Agent: \", result[\"output\"])"
   ]
  },
  {
   "cell_type": "code",
   "execution_count": 8,
   "metadata": {},
   "outputs": [
    {
     "name": "stdout",
     "output_type": "stream",
     "text": [
      "{\"page\":1,\"results\":[{\"adult\":false,\"backdrop_path\":\"/8ZTVqvKDQ8emSGUEMjsS4yHAwrp.jpg\",\"genre_ids\":[28,878,12],\"id\":27205,\"original_language\":\"en\",\"original_title\":\"Inception\",\"overview\":\"Cobb, a skilled thief who commits corporate espionage by infiltrating the subconscious of his targets is offered a chance to regain his old life as payment for a task considered to be impossible: \\\"inception\\\", the implantation of another person's idea into a target's subconscious.\",\"popularity\":134.447,\"poster_path\":\"/edv5CZvWj09upOsy2Y6IwDhK8bt.jpg\",\"release_date\":\"2010-07-15\",\"title\":\"Inception\",\"video\":false,\"vote_average\":8.369,\"vote_count\":36033},{\"adult\":false,\"backdrop_path\":\"/JeGkRdNsOuMrgwBdtB0hp763MU.jpg\",\"genre_ids\":[18,53],\"id\":613092,\"original_language\":\"es\",\"original_title\":\"El crack cero\",\"overview\":\"Madrid, Spain, 1975; shortly after the end of the Franco dictatorship. Six months after the mysterious death of his lover, a prestigious tailor, a married woman visits the office of the young Germán Areta, a former police officer turned private detective, to request his professional services.\",\"popularity\":7.183,\"poster_path\":\"/kzgPu2CMxBr4YZZxC1Off4cUfR9.jpg\",\"release_date\":\"2019-10-04\",\"title\":\"The Crack: Inception\",\"video\":false,\"vote_average\":6.6,\"vote_count\":37},{\"adult\":false,\"backdrop_path\":null,\"genre_ids\":[16,28,53,878],\"id\":64956,\"original_language\":\"en\",\"original_title\":\"Inception: The Cobol Job\",\"overview\":\"This \\\"Inception\\\" prequel unfolds courtesy of a beautiful Motion Comic, and explains how Cobb, Arthur and Nash were enlisted by Cobol Engineering.\",\"popularity\":12.307,\"poster_path\":\"/sNxqwtyHMNQwKWoFYDqcYTui5Ok.jpg\",\"release_date\":\"2010-12-07\",\"title\":\"Inception: The Cobol Job\",\"video\":false,\"vote_average\":7.261,\"vote_count\":301},{\"adult\":false,\"backdrop_path\":null,\"genre_ids\":[],\"id\":350632,\"original_language\":\"en\",\"original_title\":\"Nātyārambham\",\"overview\":\"On certain Adavus: the basic steps in Bharatanatyam. The first part covers Tatta Adavu, Natta Adavu, Visharu Adavu , Tatti Metti Adavu and Teermanam Adavu.\",\"popularity\":1.71,\"poster_path\":null,\"release_date\":\"\",\"title\":\"The Inception of Dramatic Representation\",\"video\":true,\"vote_average\":5.8,\"vote_count\":3},{\"adult\":false,\"backdrop_path\":null,\"genre_ids\":[35],\"id\":542438,\"original_language\":\"en\",\"original_title\":\"Bikini Inception\",\"overview\":\"Two flunky Janitors in an Arctic Lab perform unauthorized experiments transporting them to a beach dream world in Malibu California w/50 beautiful young girls and a female Brazilian PhD Student wearing only a bra and panties. A '67 Muscle car races chases horses guns fights surfing, sumo wrestler, wolf monster, underwater scenes tons of gorgeous models. Sexy sci-fi fun.\",\"popularity\":2.487,\"poster_path\":\"/mNASlEOFX2c9upxaSbgeKFvIr1L.jpg\",\"release_date\":\"2015-05-19\",\"title\":\"Bikini Inception\",\"video\":false,\"vote_average\":7.0,\"vote_count\":1},{\"adult\":false,\"backdrop_path\":null,\"genre_ids\":[10402],\"id\":973484,\"original_language\":\"en\",\"original_title\":\"Inception: Music from the Motion Picture\",\"overview\":\"The Special Features Blu-ray disc contains a lossless DTS-HD MA 5.1 surround mix of the Inception soundtrack.\",\"popularity\":1.047,\"poster_path\":\"/7uM4DyRVAcgagvhZoWrkrqMPbqV.jpg\",\"release_date\":\"2010-12-07\",\"title\":\"Inception: Music from the Motion Picture\",\"video\":true,\"vote_average\":6.0,\"vote_count\":1},{\"adult\":false,\"backdrop_path\":null,\"genre_ids\":[],\"id\":250845,\"original_language\":\"en\",\"original_title\":\"WWA The Inception\",\"overview\":\"The first World Wrestling Allstars pay per view, live from Sydney, Australia! A tournament titled \\\"7 Deadly Sins\\\", each round having a stipulation match, the winner will be crowned the first ever WWA Heavyweight Champion! Wrestlers such as Jeff Jarrett, Road Dogg, Jerry Lawler all compete in the tournament, with the WWA Commissioner, Bret Hart not too far away to make sure nothing gets to far out of hand!\",\"popularity\":2.992,\"poster_path\":null,\"release_date\":\"2001-10-26\",\"title\":\"WWA The Inception\",\"video\":true,\"vote_average\":3.1,\"vote_count\":5}],\"total_pages\":1,\"total_results\":7}\n"
     ]
    }
   ],
   "source": [
    "from langchain_community.utilities.requests import TextRequestsWrapper\n",
    "\n",
    "# Create a TextRequestsWrapper instance with custom headers\n",
    "headers = {\"Authorization\": f\"Bearer {os.getenv('TMDB_BEARER_TOKEN')}\"}\n",
    "requests_wrapper = TextRequestsWrapper(headers=headers)\n",
    "\n",
    "# Make a GET request and inspect the response\n",
    "response = requests_wrapper.get(f\"https://api.themoviedb.org/3/search/movie?query=Inception&language=en-US&api_key={os.getenv('TMDB_BEARER_TOKEN')}\")\n",
    "print(response)"
   ]
  },
  {
   "cell_type": "markdown",
   "metadata": {},
   "source": [
    "## Audio Parsers\n",
    "Let's see if we can add the STT and TTS steps to the chain"
   ]
  },
  {
   "cell_type": "code",
   "execution_count": 23,
   "metadata": {},
   "outputs": [
    {
     "name": "stderr",
     "output_type": "stream",
     "text": [
      "\n",
      "Usage:   \n",
      "  pip install [options] <requirement specifier> [package-index-options] ...\n",
      "  pip install [options] -r <requirements file> [package-index-options] ...\n",
      "  pip install [options] [-e] <vcs project url> ...\n",
      "  pip install [options] [-e] <local project path> ...\n",
      "  pip install [options] <archive url/path> ...\n",
      "\n",
      "no such option: -u\n"
     ]
    }
   ],
   "source": [
    "!pip install --upgrade --quiet langchain-google-community[speech]\n",
    "!pip install -upgrade --quiet langchain-google-community"
   ]
  },
  {
   "cell_type": "code",
   "execution_count": null,
   "metadata": {},
   "outputs": [],
   "source": [
    "from langchain_community.document_loaders.parsers.audio import OpenAIWhisperParserLocal\n",
    "\n",
    "project_id = \"movie-advisor\"\n",
    "file_path = \"prototypes/audio.wav\"\n",
    "\n",
    "loader = GoogleSpeechToTextLoader(project_id=project_id, file_path=file_path)\n",
    "\n",
    "docs = loader.load()\n",
    "\n",
    "print(docs[0].page_content)\n",
    "print"
   ]
  }
 ],
 "metadata": {
  "kernelspec": {
   "display_name": ".venv",
   "language": "python",
   "name": "python3"
  },
  "language_info": {
   "codemirror_mode": {
    "name": "ipython",
    "version": 3
   },
   "file_extension": ".py",
   "mimetype": "text/x-python",
   "name": "python",
   "nbconvert_exporter": "python",
   "pygments_lexer": "ipython3",
   "version": "3.12.2"
  }
 },
 "nbformat": 4,
 "nbformat_minor": 2
}
