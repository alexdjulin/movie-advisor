{
 "cells": [
  {
   "cell_type": "markdown",
   "metadata": {},
   "source": [
    "# Movie Advisor\n",
    "*Chat with an AI movie advisor and get recommendations based on your preferences.*\n",
    "\n",
    "[GitHub Repo](https://github.com/alexdjulin/movie-advisor)"
   ]
  },
  {
   "cell_type": "markdown",
   "metadata": {
    "vscode": {
     "languageId": "plaintext"
    }
   },
   "source": [
    "## Brainstorming\n",
    "\n",
    "Goal of this project is to get my hands on langchain and build an AI movie advisor. I want to be able to do the following:\n",
    "- Ask for information about a movie ('I heard The Godfather is good, give me the plot')\n",
    "- Ask for recommendations based on given criterias ('I like adventure movies, especially on the time-travel subject. Could you recommend a few?')\n",
    "- Handle a list of movies I already watched and if I liked them or not, use it to fine-tune recommendations\n",
    "- Handle a must-watch list of movies, add or remove movies from it\n",
    "- Use RAG techniques to access information outside of the LLM knowledge: Either search for a less-known movie on the Internet or input myself the plot\n",
    "\n",
    "Interactions with the movie advisor should be via keyboard input first, then using speech.\n",
    "\n",
    "The AI part should rely on a LLM. I will use OpenAI Gpt-4o at first, then try implementing open-source models. I could even try fine-tuning them on the imdb dataset.\n",
    "\n",
    "Source info should come from the LLM itself. I will try to pack the imdb dataset in a database for the model to consult, but I guess that it's been trained on it already.\n",
    "\n",
    "Lists should be stored in a database. I will use [Xata](https://app.xata.io/) for this.\n"
   ]
  },
  {
   "cell_type": "code",
   "execution_count": 114,
   "metadata": {},
   "outputs": [],
   "source": [
    "! pip install -qU python-dotenv langchain langchain-community langchainhub openai langchain-openai ipykernel kaggle pandas xata requests tiktoken langchain_huggingface sentence-transformers"
   ]
  },
  {
   "cell_type": "code",
   "execution_count": 63,
   "metadata": {},
   "outputs": [],
   "source": [
    "# load environment variables\n",
    "import dotenv\n",
    "dotenv.load_dotenv()\n",
    "\n",
    "sep = 50 * \"-\""
   ]
  },
  {
   "cell_type": "markdown",
   "metadata": {},
   "source": [
    "## Dataset review"
   ]
  },
  {
   "cell_type": "markdown",
   "metadata": {},
   "source": [
    "Here are some databases on Kaggle that our LLM could access to or extend:\n",
    "- [IMDB Movies Dataset](https://www.kaggle.com/datasets/harshitshankhdhar/imdb-dataset-of-top-1000-movies-and-tv-shows)\n",
    "- [TMDB 5000 Movie Dataset](https://www.kaggle.com/datasets/tmdb/tmdb-movie-metadata)\n",
    "- [Netflix Movies and TV Shows](https://www.kaggle.com/datasets/shivamb/netflix-shows) - Netflix contents, probably a bit too restrictive"
   ]
  },
  {
   "cell_type": "markdown",
   "metadata": {},
   "source": [
    "Let's have a look at the TMDB one."
   ]
  },
  {
   "cell_type": "markdown",
   "metadata": {},
   "source": [
    "## Review dataset"
   ]
  },
  {
   "cell_type": "markdown",
   "metadata": {},
   "source": [
    "### Download"
   ]
  },
  {
   "cell_type": "code",
   "execution_count": 2,
   "metadata": {},
   "outputs": [
    {
     "name": "stdout",
     "output_type": "stream",
     "text": [
      "Dataset URL: https://www.kaggle.com/datasets/tmdb/tmdb-movie-metadata\n",
      "License(s): other\n",
      "tmdb-movie-metadata.zip: Skipping, found more recently modified local copy (use --force to force download)\n"
     ]
    }
   ],
   "source": [
    "!kaggle datasets download -d tmdb/tmdb-movie-metadata\n",
    "\n",
    "import os\n",
    "import zipfile\n",
    "dataset_path = 'dataset'\n",
    "zip_file = 'tmdb-movie-metadata.zip'\n",
    "\n",
    "# unzip dataset\n",
    "with zipfile.ZipFile(zip_file, 'r') as zip_ref:\n",
    "    zip_ref.extractall(dataset_path)\n",
    "\n",
    "os.remove(zip_file)\n",
    "    "
   ]
  },
  {
   "cell_type": "markdown",
   "metadata": {},
   "source": [
    "### Extract data we need\n",
    "The database has extensive informaton. We will only extract the following columns:\n",
    "- title (string)\n",
    "- genres (list)\n",
    "- keywords (list)\n",
    "- overview (string)\n",
    "- vote average (float)\n",
    "- production_countries\n",
    "- release_date (string or datetime)\n",
    "- runtime in minutes (ing)"
   ]
  },
  {
   "cell_type": "code",
   "execution_count": 4,
   "metadata": {},
   "outputs": [
    {
     "name": "stdout",
     "output_type": "stream",
     "text": [
      "['budget', 'genres', 'homepage', 'id', 'keywords', 'original_language', 'original_title', 'overview', 'popularity', 'production_companies', 'production_countries', 'release_date', 'revenue', 'runtime', 'spoken_languages', 'status', 'tagline', 'title', 'vote_average', 'vote_count']\n"
     ]
    }
   ],
   "source": [
    "import pandas as pd\n",
    "\n",
    "# load dataset and print columns\n",
    "tmdb_df = pd.read_csv(f'{dataset_path}/tmdb_5000_movies.csv')\n",
    "print(sorted(tmdb_df.columns.tolist()))"
   ]
  },
  {
   "cell_type": "code",
   "execution_count": 5,
   "metadata": {},
   "outputs": [
    {
     "name": "stdout",
     "output_type": "stream",
     "text": [
      "<class 'str'>\n",
      "<class 'list'>\n",
      "<class 'list'>\n",
      "<class 'str'>\n",
      "<class 'numpy.float64'>\n",
      "<class 'list'>\n",
      "<class 'str'>\n",
      "<class 'numpy.float64'>\n"
     ]
    },
    {
     "data": {
      "text/html": [
       "<div>\n",
       "<style scoped>\n",
       "    .dataframe tbody tr th:only-of-type {\n",
       "        vertical-align: middle;\n",
       "    }\n",
       "\n",
       "    .dataframe tbody tr th {\n",
       "        vertical-align: top;\n",
       "    }\n",
       "\n",
       "    .dataframe thead th {\n",
       "        text-align: right;\n",
       "    }\n",
       "</style>\n",
       "<table border=\"1\" class=\"dataframe\">\n",
       "  <thead>\n",
       "    <tr style=\"text-align: right;\">\n",
       "      <th></th>\n",
       "      <th>title</th>\n",
       "      <th>genres</th>\n",
       "      <th>keywords</th>\n",
       "      <th>overview</th>\n",
       "      <th>vote_average</th>\n",
       "      <th>production_countries</th>\n",
       "      <th>release_date</th>\n",
       "      <th>runtime</th>\n",
       "    </tr>\n",
       "  </thead>\n",
       "  <tbody>\n",
       "    <tr>\n",
       "      <th>0</th>\n",
       "      <td>Avatar</td>\n",
       "      <td>[Action, Adventure, Fantasy, Science Fiction]</td>\n",
       "      <td>[culture clash, future, space war, space colon...</td>\n",
       "      <td>In the 22nd century, a paraplegic Marine is di...</td>\n",
       "      <td>7.2</td>\n",
       "      <td>[United States of America, United Kingdom]</td>\n",
       "      <td>2009-12-10</td>\n",
       "      <td>162.0</td>\n",
       "    </tr>\n",
       "    <tr>\n",
       "      <th>1</th>\n",
       "      <td>Pirates of the Caribbean: At World's End</td>\n",
       "      <td>[Adventure, Fantasy, Action]</td>\n",
       "      <td>[ocean, drug abuse, exotic island, east india ...</td>\n",
       "      <td>Captain Barbossa, long believed to be dead, ha...</td>\n",
       "      <td>6.9</td>\n",
       "      <td>[United States of America]</td>\n",
       "      <td>2007-05-19</td>\n",
       "      <td>169.0</td>\n",
       "    </tr>\n",
       "    <tr>\n",
       "      <th>2</th>\n",
       "      <td>Spectre</td>\n",
       "      <td>[Action, Adventure, Crime]</td>\n",
       "      <td>[spy, based on novel, secret agent, sequel, mi...</td>\n",
       "      <td>A cryptic message from Bond’s past sends him o...</td>\n",
       "      <td>6.3</td>\n",
       "      <td>[United Kingdom, United States of America]</td>\n",
       "      <td>2015-10-26</td>\n",
       "      <td>148.0</td>\n",
       "    </tr>\n",
       "    <tr>\n",
       "      <th>3</th>\n",
       "      <td>The Dark Knight Rises</td>\n",
       "      <td>[Action, Crime, Drama, Thriller]</td>\n",
       "      <td>[dc comics, crime fighter, terrorist, secret i...</td>\n",
       "      <td>Following the death of District Attorney Harve...</td>\n",
       "      <td>7.6</td>\n",
       "      <td>[United States of America]</td>\n",
       "      <td>2012-07-16</td>\n",
       "      <td>165.0</td>\n",
       "    </tr>\n",
       "    <tr>\n",
       "      <th>4</th>\n",
       "      <td>John Carter</td>\n",
       "      <td>[Action, Adventure, Science Fiction]</td>\n",
       "      <td>[based on novel, mars, medallion, space travel...</td>\n",
       "      <td>John Carter is a war-weary, former military ca...</td>\n",
       "      <td>6.1</td>\n",
       "      <td>[United States of America]</td>\n",
       "      <td>2012-03-07</td>\n",
       "      <td>132.0</td>\n",
       "    </tr>\n",
       "  </tbody>\n",
       "</table>\n",
       "</div>"
      ],
      "text/plain": [
       "                                      title  \\\n",
       "0                                    Avatar   \n",
       "1  Pirates of the Caribbean: At World's End   \n",
       "2                                   Spectre   \n",
       "3                     The Dark Knight Rises   \n",
       "4                               John Carter   \n",
       "\n",
       "                                          genres  \\\n",
       "0  [Action, Adventure, Fantasy, Science Fiction]   \n",
       "1                   [Adventure, Fantasy, Action]   \n",
       "2                     [Action, Adventure, Crime]   \n",
       "3               [Action, Crime, Drama, Thriller]   \n",
       "4           [Action, Adventure, Science Fiction]   \n",
       "\n",
       "                                            keywords  \\\n",
       "0  [culture clash, future, space war, space colon...   \n",
       "1  [ocean, drug abuse, exotic island, east india ...   \n",
       "2  [spy, based on novel, secret agent, sequel, mi...   \n",
       "3  [dc comics, crime fighter, terrorist, secret i...   \n",
       "4  [based on novel, mars, medallion, space travel...   \n",
       "\n",
       "                                            overview  vote_average  \\\n",
       "0  In the 22nd century, a paraplegic Marine is di...           7.2   \n",
       "1  Captain Barbossa, long believed to be dead, ha...           6.9   \n",
       "2  A cryptic message from Bond’s past sends him o...           6.3   \n",
       "3  Following the death of District Attorney Harve...           7.6   \n",
       "4  John Carter is a war-weary, former military ca...           6.1   \n",
       "\n",
       "                         production_countries release_date  runtime  \n",
       "0  [United States of America, United Kingdom]   2009-12-10    162.0  \n",
       "1                  [United States of America]   2007-05-19    169.0  \n",
       "2  [United Kingdom, United States of America]   2015-10-26    148.0  \n",
       "3                  [United States of America]   2012-07-16    165.0  \n",
       "4                  [United States of America]   2012-03-07    132.0  "
      ]
     },
     "execution_count": 5,
     "metadata": {},
     "output_type": "execute_result"
    }
   ],
   "source": [
    "# filter columns to keep and make a copy of the df\n",
    "columns = [\"title\", \"genres\", \"keywords\", \"overview\", \"vote_average\", \"production_countries\", \"release_date\", \"runtime\"]\n",
    "df = tmdb_df.copy().dropna()\n",
    "df = df[columns]\n",
    "\n",
    "# format columns with multiple values as lists\n",
    "for column in [\"genres\", \"keywords\", \"production_countries\"]:\n",
    "    df[column] = df[column].apply(lambda x: [i['name'] for i in eval(x)])\n",
    "\n",
    "# # format floats to strings\n",
    "# for column in [\"vote_average\", \"runtime\"]:\n",
    "#     df[column] = df[column].astype(str)\n",
    "\n",
    "# make sure all columns are strings\n",
    "for column in columns:\n",
    "    print(type(df[column][0]))\n",
    "\n",
    "df.head()"
   ]
  },
  {
   "cell_type": "code",
   "execution_count": 8,
   "metadata": {},
   "outputs": [],
   "source": [
    "# connect to xata\n",
    "from xata.client import XataClient\n",
    "\n",
    "xata = XataClient()\n",
    "database_name = \"movies-database\""
   ]
  },
  {
   "cell_type": "code",
   "execution_count": 9,
   "metadata": {},
   "outputs": [],
   "source": [
    "def create_table(table_name: str, table_schema: dict) -> None:\n",
    "    \"\"\" create table if it doesn't exist \"\"\"\n",
    "    try:\n",
    "        assert xata.table().create(table_name).is_success()\n",
    "    except AssertionError as e:\n",
    "        print(f\"Error creating table '{table_name}': {e}\")\n",
    "    try:\n",
    "        resp = xata.table().set_schema(table_name, table_schema)\n",
    "        assert resp.is_success(), resp\n",
    "    except AssertionError as e:\n",
    "        print(f\"Error setting schema for table '{table_name}': {e}\")"
   ]
  },
  {
   "cell_type": "code",
   "execution_count": 10,
   "metadata": {},
   "outputs": [
    {
     "name": "stdout",
     "output_type": "stream",
     "text": [
      "{'title': 'Avatar', 'genres': ['Action', 'Adventure', 'Fantasy', 'Science Fiction'], 'keywords': ['culture clash', 'future', 'space war', 'space colony', 'society', 'space travel', 'futuristic', 'romance', 'space', 'alien', 'tribe', 'alien planet', 'cgi', 'marine', 'soldier', 'battle', 'love affair', 'anti war', 'power relations', 'mind and soul', '3d'], 'overview': 'In the 22nd century, a paraplegic Marine is dispatched to the moon Pandora on a unique mission, but becomes torn between following orders and protecting an alien civilization.', 'vote_average': 7.2, 'production_countries': ['United States of America', 'United Kingdom'], 'release_date': '2009-12-10', 'runtime': 162.0}\n"
     ]
    },
    {
     "data": {
      "text/plain": [
       "{'id': 'rec_cqce4hei9lerrvc50680',\n",
       " 'xata': {'createdAt': '2024-07-18T09:37:09.605725Z',\n",
       "  'updatedAt': '2024-07-18T09:37:09.605725Z',\n",
       "  'version': 0}}"
      ]
     },
     "execution_count": 10,
     "metadata": {},
     "output_type": "execute_result"
    }
   ],
   "source": [
    "# create tmdb_movies table\n",
    "table_name = \"tmdb_movies\"\n",
    "\n",
    "table_schema = {\n",
    "    \"columns\": [\n",
    "        {\"name\": \"title\", \"type\": \"string\"},\n",
    "        {\"name\": \"genres\", \"type\": \"multiple\"},\n",
    "        {\"name\": \"keywords\", \"type\": \"multiple\"},\n",
    "        {\"name\": \"overview\", \"type\": \"string\"},\n",
    "        {\"name\": \"vote_average\", \"type\": \"float\"},\n",
    "        {\"name\": \"production_countries\", \"type\": \"multiple\"},\n",
    "        {\"name\": \"release_date\", \"type\": \"string\"},\n",
    "        {\"name\": \"runtime\", \"type\": \"float\"},\n",
    "    ]\n",
    "}\n",
    "\n",
    "create_table(table_name, table_schema)\n",
    "\n",
    "# insert one entry as a test\n",
    "record = df.iloc[0].to_dict()\n",
    "print(record)\n",
    "\n",
    "xata.records().insert(table_name, record)"
   ]
  },
  {
   "cell_type": "code",
   "execution_count": null,
   "metadata": {},
   "outputs": [],
   "source": [
    "# if successful, fill up database\n",
    "table_name = \"tmdb_movies\"\n",
    "\n",
    "# records = df.to_dict(orient='records')\n",
    "# for record in records:\n",
    "    # xata.records().insert(table_name, record)\n",
    "\n",
    "# or using bulk insert / faster but 1000 records limit at a time\n",
    "xata.records().bulk_insert(table_name, {\"records\": df.to_dict(orient='records')[:999]})\n",
    "xata.records().bulk_insert(table_name, {\"records\": df.to_dict(orient='records')[1000:]})"
   ]
  },
  {
   "cell_type": "markdown",
   "metadata": {},
   "source": [
    "The dataset is now on xata."
   ]
  },
  {
   "cell_type": "markdown",
   "metadata": {},
   "source": [
    "### Create movie_history table to handle my own data\n",
    "This is how to add records to a xata table. But I will use the next method, loading them from documents and creating embeddings on the way"
   ]
  },
  {
   "cell_type": "code",
   "execution_count": 12,
   "metadata": {},
   "outputs": [],
   "source": [
    "table_name = \"movie_history\"\n",
    "table_schema = {\n",
    "    \"columns\": [\n",
    "        {\"name\": \"title\", \"type\": \"string\"},\n",
    "        {\"name\": \"watched\", \"type\": \"bool\"},\n",
    "        {\"name\": \"watch_list\", \"type\": \"bool\"},\n",
    "        {\"name\": \"comment\", \"type\": \"string\"},\n",
    "        {\"name\": \"embedding_text\", \"type\": \"string\"},\n",
    "    ]\n",
    "}\n",
    "\n",
    "create_table(table_name, table_schema)\n",
    "\n",
    "rec_1 = {\n",
    "    \"title\": \"Inception\",\n",
    "    \"watched\": True,\n",
    "    \"watch_list\": False,\n",
    "    \"comment\": \"This is one of my favourite movie, especially how it handles time paradox!\",\n",
    "    \"embedding_text\": \"Inception (watched) one of my favourite movie, like: time paradox\"\n",
    "}\n",
    "rec_2 = {\n",
    "    \"title\": \"Jurassik Park\",\n",
    "    \"watched\": True,\n",
    "    \"watch_list\": False,\n",
    "    \"comment\": \"A true masterpiece. This is probably the best movie of all times, I could watch it forever and never get bored\",\n",
    "    \"embedding_text\": \"Jurassik Park (watched) best movie of all times, masterpiece, never get bored\"\n",
    "}\n",
    "\n",
    "rec_3 = {\n",
    "    \"title\": \"West Side Story\",\n",
    "    \"watched\": False,\n",
    "    \"watch_list\": True,\n",
    "    \"comment\": \"I heard it's a very good movie and the music is amazing. I can't wait to watch it\",\n",
    "    \"embedding_text\": \"West Side Story (watch_list) music amazing, can't wait to watch it\"\n",
    "}\n",
    "\n",
    "rec_4 = {\n",
    "    \"title\": \"The Exorcist\",\n",
    "    \"watched\": False,\n",
    "    \"watch_list\": False,\n",
    "    \"comment\": \"I don't like horror movies and I heard this one is pretty rough, I prefer not to watch it\",\n",
    "    \"embedding_text\": \"The Exorcist (not on watch_list) I dont like horror movies, prefer not to watch it\"\n",
    "}\n",
    "\n",
    "# add records to table\n",
    "embedding_text_list = []\n",
    "for record in [rec_1, rec_2, rec_3, rec_4]:\n",
    "    xata.records().insert(table_name, record)\n",
    "    embedding_text_list.append(record[\"embedding_text\"])\n"
   ]
  },
  {
   "cell_type": "code",
   "execution_count": 13,
   "metadata": {},
   "outputs": [
    {
     "name": "stdout",
     "output_type": "stream",
     "text": [
      "Jurassik Park\n",
      "Inception\n",
      "West Side Story\n",
      "The Exorcist\n"
     ]
    }
   ],
   "source": [
    "# load the content of movie_history\n",
    "table_name = \"movie_history\"\n",
    "records = xata.data().query(table_name)[\"records\"]\n",
    "for rec in records:\n",
    "    print(rec[\"title\"])"
   ]
  },
  {
   "cell_type": "code",
   "execution_count": 14,
   "metadata": {},
   "outputs": [
    {
     "name": "stdout",
     "output_type": "stream",
     "text": [
      "Watched: Jurassik Park | Inception\n",
      "Watchlist: West Side Story\n",
      "Blacklist: The Exorcist\n"
     ]
    }
   ],
   "source": [
    "def get_movie_history(table_name: str) -> dict:\n",
    "    \"\"\" Query the list of watched, not watched and blacklists movies \"\"\"\n",
    "\n",
    "    records = xata.data().query(table_name)[\"records\"]\n",
    "    watched = ' | '.join([rec['title'] for rec in records if rec[\"watched\"]])\n",
    "    watchlist = ' | '.join([rec['title'] for rec in records if not rec[\"watched\"] and rec[\"watch_list\"]])\n",
    "    blacklist = ' | '.join([rec['title'] for rec in records if not rec[\"watched\"] and not rec[\"watch_list\"]])\n",
    "    \n",
    "    return {\"watched\": watched, \"watchlist\": watchlist, \"blacklist\": blacklist}\n",
    "        \n",
    "        \n",
    "history = get_movie_history(table_name)\n",
    "print(\"Watched:\", history[\"watched\"])\n",
    "print(\"Watchlist:\", history[\"watchlist\"])\n",
    "print(\"Blacklist:\", history[\"blacklist\"])"
   ]
  },
  {
   "cell_type": "markdown",
   "metadata": {},
   "source": [
    "### Load data and embedding to xata table\n",
    "Pack all record data into Documents and load them to a xata table, creating vector embeddings on the way"
   ]
  },
  {
   "cell_type": "code",
   "execution_count": 15,
   "metadata": {},
   "outputs": [
    {
     "name": "stdout",
     "output_type": "stream",
     "text": [
      "[Document(metadata={'title': 'Inception', 'watched': True, 'watch_list': False, 'comment': 'This is one of my favourite movie, especially how it handles time paradox!'}, page_content='Inception (watched) one of my favourite movie, liked the time paradox'), Document(metadata={'title': 'Jurassik Park', 'watched': True, 'watch_list': False, 'comment': 'A true masterpiece. This is probably the best movie of all times, I could watch it forever and never get bored'}, page_content='Jurassik Park (watched) best movie of all times, masterpiece, never get bored'), Document(metadata={'title': 'West Side Story', 'watched': False, 'watch_list': True, 'comment': \"I heard it's a very good movie and the music is amazing. I can't wait to watch it\"}, page_content=\"West Side Story (watch_list) music amazing, can't wait to watch it\"), Document(metadata={'title': 'The Exorcist', 'watched': False, 'watch_list': False, 'comment': \"I don't like horror movies and I heard this one is pretty rough, I prefer not to watch it\"}, page_content='The Exorcist (not on watch_list) I dont like horror movies, prefer not to watch it')]\n"
     ]
    }
   ],
   "source": [
    "from langchain_community.vectorstores.xata import XataVectorStore\n",
    "from langchain_openai import OpenAIEmbeddings\n",
    "from langchain.schema import Document\n",
    "\n",
    "# create vectorstore\n",
    "embeddings = OpenAIEmbeddings()\n",
    "\n",
    "rec_1 = {\n",
    "    \"title\": \"Inception\",\n",
    "    \"watched\": True,\n",
    "    \"watch_list\": False,\n",
    "    \"comment\": \"This is one of my favourite movie, especially how it handles time paradox!\",\n",
    "    \"embedding_text\": \"Inception (watched) one of my favourite movie, liked the time paradox\"\n",
    "}\n",
    "rec_2 = {\n",
    "    \"title\": \"Jurassik Park\",\n",
    "    \"watched\": True,\n",
    "    \"watch_list\": False,\n",
    "    \"comment\": \"A true masterpiece. This is probably the best movie of all times, I could watch it forever and never get bored\",\n",
    "    \"embedding_text\": \"Jurassik Park (watched) best movie of all times, masterpiece, never get bored\"\n",
    "}\n",
    "\n",
    "rec_3 = {\n",
    "    \"title\": \"West Side Story\",\n",
    "    \"watched\": False,\n",
    "    \"watch_list\": True,\n",
    "    \"comment\": \"I heard it's a very good movie and the music is amazing. I can't wait to watch it\",\n",
    "    \"embedding_text\": \"West Side Story (watch_list) music amazing, can't wait to watch it\"\n",
    "}\n",
    "\n",
    "rec_4 = {\n",
    "    \"title\": \"The Exorcist\",\n",
    "    \"watched\": False,\n",
    "    \"watch_list\": False,\n",
    "    \"comment\": \"I don't like horror movies and I heard this one is pretty rough, I prefer not to watch it\",\n",
    "    \"embedding_text\": \"The Exorcist (not on watch_list) I dont like horror movies, prefer not to watch it\"\n",
    "}\n",
    "\n",
    "documents = []\n",
    "\n",
    "for rec in [rec_1, rec_2, rec_3, rec_4]:\n",
    "    doc = Document(page_content=rec[\"embedding_text\"], metadata={k: v for k, v in rec.items() if k != \"embedding_text\"})\n",
    "    documents.append(doc)\n",
    "\n",
    "print(documents)\n",
    "\n",
    "table_name = \"movie_history\"\n",
    "table_schema = {\n",
    "    \"columns\": [\n",
    "        {\"name\": \"title\", \"type\": \"text\"},\n",
    "        {\"name\": \"watched\", \"type\": \"bool\"},\n",
    "        {\"name\": \"watch_list\", \"type\": \"bool\"},\n",
    "        {\"name\": \"comment\", \"type\": \"text\"},\n",
    "        {\"name\": \"content\", \"type\": \"text\"},\n",
    "        {\"name\": \"embedding\", \"type\": \"vector\", \"vector\": {\"dimension\": 1536}}\n",
    "    ]\n",
    "}\n",
    "\n",
    "create_table(table_name, table_schema)\n",
    "\n",
    "# create vectorstore from documents\n",
    "vector_store = XataVectorStore.from_documents(\n",
    "    documents,\n",
    "    embeddings,\n",
    "    api_key=os.getenv(\"XATA_API_KEY\"),\n",
    "    db_url=os.getenv(\"XATA_DATABASE_URL\"),\n",
    "    table_name=table_name\n",
    ")\n"
   ]
  },
  {
   "cell_type": "code",
   "execution_count": 16,
   "metadata": {},
   "outputs": [
    {
     "data": {
      "text/plain": [
       "<langchain_community.vectorstores.xata.XataVectorStore at 0x186dc7e4800>"
      ]
     },
     "execution_count": 16,
     "metadata": {},
     "output_type": "execute_result"
    }
   ],
   "source": [
    "# initialise existing vectorstore\n",
    "table_name = \"movie_history\"\n",
    "embeddings = OpenAIEmbeddings()\n",
    "vector_store = XataVectorStore(\n",
    "    embedding=embeddings,\n",
    "    api_key=os.getenv(\"XATA_API_KEY\"),\n",
    "    db_url=os.getenv(\"XATA_DATABASE_URL\"),\n",
    "    table_name=table_name\n",
    ")\n",
    "\n",
    "vector_store"
   ]
  },
  {
   "cell_type": "markdown",
   "metadata": {},
   "source": [
    "### Similarity Search test\n",
    "Let's see if we can extract information from our history"
   ]
  },
  {
   "cell_type": "code",
   "execution_count": 27,
   "metadata": {},
   "outputs": [
    {
     "name": "stdout",
     "output_type": "stream",
     "text": [
      "The Exorcist (not on watch_list) I dont like horror movies, prefer not to watch it\n"
     ]
    }
   ],
   "source": [
    "query = \"What movies am I most affraid of?\"\n",
    "found_docs = vector_store.similarity_search(query, k=1)\n",
    "print(found_docs[0].page_content)"
   ]
  },
  {
   "cell_type": "markdown",
   "metadata": {},
   "source": [
    "## Build our LLM structure"
   ]
  },
  {
   "cell_type": "markdown",
   "metadata": {},
   "source": [
    "### Prompt"
   ]
  },
  {
   "cell_type": "code",
   "execution_count": 28,
   "metadata": {},
   "outputs": [
    {
     "name": "stdout",
     "output_type": "stream",
     "text": [
      "input_variables=['blacklist', 'preferences', 'question', 'watched', 'watchlist'] messages=[HumanMessagePromptTemplate(prompt=PromptTemplate(input_variables=['blacklist', 'preferences', 'question', 'watched', 'watchlist'], template=\"You are a movie advisor offering me recommendations based on my preferences and watch history from these 3 lists:\\n- Watched: Movies I have already seen: {watched}.\\n- Watchlist: Movies I haven't seen yet but I want to: {watchlist}.\\n- Blacklist: Movies I haven't seen yet but I don't want to: {blacklist}.\\nOnly recommend one movie at a time.\\nMy preferences related to the question to orient your answer: {preferences}.\\nQuestion: {question}.\\n\"))]\n"
     ]
    }
   ],
   "source": [
    "from langchain.prompts import ChatPromptTemplate\n",
    "\n",
    "template = \"\"\"You are a movie advisor offering me recommendations based on my preferences and watch history from these 3 lists:\n",
    "- Watched: Movies I have already seen: {watched}.\n",
    "- Watchlist: Movies I haven't seen yet but I want to: {watchlist}.\n",
    "- Blacklist: Movies I haven't seen yet but I don't want to: {blacklist}.\n",
    "Only recommend one movie at a time.\n",
    "My preferences related to the question to orient your answer: {preferences}.\n",
    "Question: {question}.\n",
    "\"\"\"\n",
    "\n",
    "prompt = ChatPromptTemplate.from_template(template)\n",
    "print(prompt)\n"
   ]
  },
  {
   "cell_type": "markdown",
   "metadata": {},
   "source": [
    "### Similarity Retriever"
   ]
  },
  {
   "cell_type": "code",
   "execution_count": 30,
   "metadata": {},
   "outputs": [
    {
     "name": "stdout",
     "output_type": "stream",
     "text": [
      "The Exorcist (not on watch_list) I dont like horror movies, prefer not to watch it\n"
     ]
    }
   ],
   "source": [
    "retriever = vector_store.as_retriever(search_type=\"similarity\", search_kwargs={\"k\": 1})\n",
    "results = retriever.invoke(\"I'm affraid of horror movies\")\n",
    "print(results[0].page_content)"
   ]
  },
  {
   "cell_type": "markdown",
   "metadata": {},
   "source": [
    "### LLM Model"
   ]
  },
  {
   "cell_type": "code",
   "execution_count": 31,
   "metadata": {},
   "outputs": [],
   "source": [
    "from langchain_openai import ChatOpenAI\n",
    "llm_gpt4 = ChatOpenAI(model='gpt-4o')"
   ]
  },
  {
   "cell_type": "markdown",
   "metadata": {},
   "source": [
    "### String output parser\n",
    "Create a string output parser for general chatting with the advisor about movies"
   ]
  },
  {
   "cell_type": "code",
   "execution_count": 32,
   "metadata": {},
   "outputs": [],
   "source": [
    "from langchain_core.output_parsers import StrOutputParser\n",
    "str_output_parser = StrOutputParser()"
   ]
  },
  {
   "cell_type": "code",
   "execution_count": 37,
   "metadata": {},
   "outputs": [
    {
     "name": "stdout",
     "output_type": "stream",
     "text": [
      "Choosing a movie can depend on your mood, interests, and what genre you're in the mood for. Here are some recommendations based on different genres:\n",
      "\n",
      "1. **Action/Adventure**: \n",
      "   - \"Mad Max: Fury Road\"\n",
      "   - \"John Wick\"\n",
      "\n",
      "2. **Comedy**:\n",
      "   - \"Superbad\"\n",
      "   - \"The Grand Budapest Hotel\"\n",
      "\n",
      "3. **Drama**:\n",
      "   - \"The Shawshank Redemption\"\n",
      "   - \"A Beautiful Mind\"\n",
      "\n",
      "4. **Horror**:\n",
      "   - \"Get Out\"\n",
      "   - \"The Conjuring\"\n",
      "\n",
      "5. **Romance**:\n",
      "   - \"Pride and Prejudice\"\n",
      "   - \"La La Land\"\n",
      "\n",
      "6. **Science Fiction**:\n",
      "   - \"Inception\"\n",
      "   - \"Blade Runner 2049\"\n",
      "\n",
      "7. **Family/Animated**:\n",
      "   - \"Coco\"\n",
      "   - \"Toy Story 4\"\n",
      "\n",
      "8. **Documentary**:\n",
      "   - \"13th\"\n",
      "   - \"Free Solo\"\n",
      "\n",
      "Feel free to choose based on what you feel like watching tonight! If you have any specific preferences or mood, let me know and I can tailor the recommendation more closely to your tastes.\n"
     ]
    }
   ],
   "source": [
    "from langchain_core.prompts.prompt import PromptTemplate\n",
    "\n",
    "# test string parser\n",
    "test_prompt = PromptTemplate(\n",
    "    template=\"Answer the user query.\\n{format_instructions}\\n{query}\\n\",\n",
    "    input_variables=[\"query\"],\n",
    "    partial_variables={\"format_instructions\": \"String\"},\n",
    ")\n",
    "\n",
    "str_chain = test_prompt | llm_gpt4 | str_output_parser\n",
    "response = str_chain.invoke({\"query\": \"What movie should I watch tonight?\"})\n",
    "print(response)"
   ]
  },
  {
   "cell_type": "markdown",
   "metadata": {},
   "source": [
    "### JSON Output Parser\n",
    "Create a json output parser to update the database\n",
    "[Documentation](https://python.langchain.com/v0.1/docs/modules/model_io/output_parsers/types/json/)"
   ]
  },
  {
   "cell_type": "code",
   "execution_count": 41,
   "metadata": {},
   "outputs": [
    {
     "name": "stdout",
     "output_type": "stream",
     "text": [
      "pydantic_object=<class '__main__.Recommendation'>\n"
     ]
    }
   ],
   "source": [
    "from langchain_core.output_parsers import JsonOutputParser\n",
    "from langchain_core.prompts import PromptTemplate\n",
    "from langchain_core.pydantic_v1 import BaseModel, Field\n",
    "from langchain_openai import ChatOpenAI\n",
    "\n",
    "model = ChatOpenAI(temperature=0)\n",
    "\n",
    "# define desired data structure\n",
    "class Recommendation(BaseModel):\n",
    "    title: str = Field(description=\"The movie title you recommend\")\n",
    "    comment: str = Field(description=\"My personal opinion about the movie\")\n",
    "    watched: bool = Field(description=\"True to add it to the list of watched movies, else False\")\n",
    "    watchlist: bool = Field(description=\"True to add it to the list of movies I would like to watch, else False\")\n",
    "    blacklist: bool = Field(description=\"True to add it to the list of movies I don't want to watch, else False\")\n",
    "    embedding: bool = Field(description=\"A short text that describes my answer as follow: {movie_title} ({watched/watchlist/blacklist}) {personal_opinion}. It will be stored as an embedding vector in the database\")\n",
    "\n",
    "json_output_parser = JsonOutputParser(pydantic_object=Recommendation)\n",
    "print(json_output_parser)"
   ]
  },
  {
   "cell_type": "code",
   "execution_count": 42,
   "metadata": {},
   "outputs": [
    {
     "data": {
      "text/plain": [
       "{'title': 'Inception',\n",
       " 'comment': \"One of the best mind-bending movies I've ever seen\",\n",
       " 'watched': False,\n",
       " 'watchlist': True,\n",
       " 'blacklist': False,\n",
       " 'embedding': \"Inception (watchlist) One of the best mind-bending movies I've ever seen\"}"
      ]
     },
     "execution_count": 42,
     "metadata": {},
     "output_type": "execute_result"
    }
   ],
   "source": [
    "# test json parser\n",
    "test_prompt = PromptTemplate(\n",
    "    template=\"Answer the user query.\\n{format_instructions}\\n{query}\\n\",\n",
    "    input_variables=[\"query\"],\n",
    "    partial_variables={\"format_instructions\": json_output_parser.get_format_instructions()},\n",
    ")\n",
    "\n",
    "json_chain = test_prompt | model | json_output_parser\n",
    "json_chain.invoke({\"query\": \"What movie should I watch tonight?\"})"
   ]
  },
  {
   "cell_type": "markdown",
   "metadata": {},
   "source": [
    "### Build chain"
   ]
  },
  {
   "cell_type": "code",
   "execution_count": 43,
   "metadata": {},
   "outputs": [
    {
     "name": "stdout",
     "output_type": "stream",
     "text": [
      "Given that you don't like horror movies and prefer not to watch them, I wouldn't recommend a horror film. Instead, considering your interest in movies like \"Inception\" and \"Jurassic Park,\" I would suggest something that fits more into the sci-fi, thriller, or adventure genres. \n",
      "\n",
      "How about \"Interstellar\"? It's a thought-provoking sci-fi film directed by Christopher Nolan, the same director as \"Inception.\" It combines elements of adventure, drama, and science fiction, making it a great match for your preferences.\n"
     ]
    }
   ],
   "source": [
    "# define input\n",
    "table_name = \"movie_history\"\n",
    "history = get_movie_history(table_name)\n",
    "\n",
    "watched = (lambda x: history[\"watched\"])\n",
    "watchlist = (lambda x: history[\"watchlist\"])\n",
    "blacklist = (lambda x: history[\"blacklist\"])\n",
    "\n",
    "preferences = (lambda x: x[\"question\"]) | retriever\n",
    "\n",
    "question = (lambda x: x[\"question\"])\n",
    "\n",
    "input_var = {\"watched\": watched, \"watchlist\": watchlist, \"blacklist\": blacklist, \"preferences\": preferences, \"question\": question}\n",
    "\n",
    "# define chain\n",
    "chain = (input_var | prompt | llm_gpt4 | str_output_parser)\n",
    "\n",
    "# invoke answer\n",
    "answer = chain.invoke({\"question\": \"Could you recommand a good horror movie?\"})\n",
    "print(answer)"
   ]
  },
  {
   "cell_type": "markdown",
   "metadata": {},
   "source": [
    "### Build Tools\n",
    "Let's build tool methods that our model can use to add or remove a movie from a list."
   ]
  },
  {
   "cell_type": "code",
   "execution_count": 119,
   "metadata": {},
   "outputs": [],
   "source": [
    "from langchain_core.tools import tool\n",
    "\n",
    "@tool\n",
    "def add_movie_to_watched_list(title: str) -> dict:\n",
    "    \"\"\"Add a movie title to the list of movies I have already watched\"\"\"\n",
    "    global watch_dict\n",
    "    watch_dict[\"watched\"].append(title)\n",
    "    return watch_dict\n",
    "\n",
    "@tool\n",
    "def add_movie_to_mustSee_list(title: str) -> dict:\n",
    "    \"\"\"Add a movie title to the list of movies I want to see\"\"\"\n",
    "    global watch_dict\n",
    "    watch_dict[\"must_see\"].append(title)\n",
    "    return watch_dict\n",
    "\n",
    "@tool\n",
    "def add_movie_to_notInterested_list(title: str) -> dict:\n",
    "    \"\"\"Add a movie title to the list of movies I'm not interested in\"\"\"\n",
    "    global watch_dict\n",
    "    watch_dict[\"not_interested\"].append(title)\n",
    "    return watch_dict\n",
    "\n",
    "@tool\n",
    "def remove_movie_from_watched(title: str) -> dict:\n",
    "    \"\"\"Remove a movie title from the list of movies I have already watched\"\"\"\n",
    "    global watch_dict\n",
    "    watch_dict[\"watched\"].remove(title)\n",
    "    return watch_dict\n",
    "\n",
    "@tool\n",
    "def remove_movie_from_mustSee(title: str) -> dict:\n",
    "    \"\"\"Remove a movie title from the list of movies I want to see\"\"\"\n",
    "    global watch_dict\n",
    "    watch_dict[\"must_see\"].remove(title)\n",
    "    return watch_dict\n",
    "\n",
    "@tool\n",
    "def remove_movie_from_notInterested(title: str) -> dict:\n",
    "    \"\"\"Remove a movie title from the list of movies I'm not interested in\"\"\"\n",
    "    global watch_dict\n",
    "    watch_dict[\"not_interested\"].remove(title)\n",
    "    return watch_dict\n",
    "\n",
    "tools = [\n",
    "    add_movie_to_watched_list,\n",
    "    add_movie_to_mustSee_list,\n",
    "    add_movie_to_notInterested_list,\n",
    "    remove_movie_from_watched,\n",
    "    remove_movie_from_mustSee,\n",
    "    remove_movie_from_notInterested\n",
    "]\n",
    "\n",
    "# link our model to the tools\n",
    "gpt4_with_tools = llm_gpt4.bind_tools(tools)   \n"
   ]
  },
  {
   "cell_type": "markdown",
   "metadata": {},
   "source": [
    "### Create Agent"
   ]
  },
  {
   "cell_type": "markdown",
   "metadata": {},
   "source": [
    "Let's now create an agent that will use the tools to update our lists."
   ]
  },
  {
   "cell_type": "code",
   "execution_count": 126,
   "metadata": {},
   "outputs": [
    {
     "name": "stdout",
     "output_type": "stream",
     "text": [
      "input_variables=['agent_scratchpad', 'input'] optional_variables=['chat_history'] input_types={'chat_history': typing.List[typing.Union[langchain_core.messages.ai.AIMessage, langchain_core.messages.human.HumanMessage, langchain_core.messages.chat.ChatMessage, langchain_core.messages.system.SystemMessage, langchain_core.messages.function.FunctionMessage, langchain_core.messages.tool.ToolMessage]], 'agent_scratchpad': typing.List[typing.Union[langchain_core.messages.ai.AIMessage, langchain_core.messages.human.HumanMessage, langchain_core.messages.chat.ChatMessage, langchain_core.messages.system.SystemMessage, langchain_core.messages.function.FunctionMessage, langchain_core.messages.tool.ToolMessage]]} partial_variables={'chat_history': []} metadata={'lc_hub_owner': 'hwchase17', 'lc_hub_repo': 'openai-tools-agent', 'lc_hub_commit_hash': 'c18672812789a3b9697656dd539edf0120285dcae36396d0b548ae42a4ed66f5'} messages=[SystemMessagePromptTemplate(prompt=PromptTemplate(input_variables=[], template='You are a helpful assistant')), MessagesPlaceholder(variable_name='chat_history', optional=True), HumanMessagePromptTemplate(prompt=PromptTemplate(input_variables=['input'], template='{input}')), MessagesPlaceholder(variable_name='agent_scratchpad')]\n",
      "{'watched': [], 'must_see': [], 'not_interested': []}\n",
      "{'input': \"Could you please add the movie 'The Matrix' to my watched list?\", 'output': 'I\\'ve added \"The Matrix\" to your watched list.'}\n",
      "{'watched': ['The Matrix'], 'must_see': [], 'not_interested': []}\n"
     ]
    }
   ],
   "source": [
    "from langchain import hub\n",
    "from langchain.agents import AgentExecutor, create_tool_calling_agent\n",
    "\n",
    "# import premade prompt\n",
    "prompt = hub.pull(\"hwchase17/openai-tools-agent\")\n",
    "print(prompt)\n",
    "\n",
    "agent = create_tool_calling_agent(llm_gpt4, tools, prompt)\n",
    "\n",
    "agent_executor = AgentExecutor(agent=agent, tools=tools, verbose=False)\n",
    "\n",
    "watch_dict = {\"watched\": [], \"must_see\": [], \"not_interested\": []}\n",
    "print(watch_dict)\n",
    "\n",
    "result = agent_executor.invoke(\n",
    "    {\n",
    "        \"input\": \"Could you please add the movie 'The Matrix' to my watched list?\"\n",
    "    }\n",
    ")\n",
    "\n",
    "print(result)\n",
    "print(watch_dict)"
   ]
  },
  {
   "cell_type": "code",
   "execution_count": null,
   "metadata": {},
   "outputs": [],
   "source": [
    "# test it in a while loop\n",
    "watch_dict = {\"watched\": [], \"must_see\": [], \"not_interested\": []}\n",
    "\n",
    "while True:\n",
    "\n",
    "    print(\"WATCH STATUS:\", watch_dict)\n",
    "    \n",
    "    input_text = input(\"Alex:\")\n",
    "    if not input_text:\n",
    "        break\n",
    "\n",
    "    result = agent_executor.invoke({\"input\": input_text})\n",
    "    print(\"Agent:\", result)"
   ]
  }
 ],
 "metadata": {
  "kernelspec": {
   "display_name": ".venv",
   "language": "python",
   "name": "python3"
  },
  "language_info": {
   "codemirror_mode": {
    "name": "ipython",
    "version": 3
   },
   "file_extension": ".py",
   "mimetype": "text/x-python",
   "name": "python",
   "nbconvert_exporter": "python",
   "pygments_lexer": "ipython3",
   "version": "3.12.2"
  }
 },
 "nbformat": 4,
 "nbformat_minor": 2
}
